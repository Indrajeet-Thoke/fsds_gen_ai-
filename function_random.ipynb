{
 "cells": [
  {
   "cell_type": "code",
   "execution_count": 1,
   "id": "c2dbbc71-e444-405f-affc-00211cc2fb9a",
   "metadata": {},
   "outputs": [
    {
     "ename": "NameError",
     "evalue": "name 'rand' is not defined",
     "output_type": "error",
     "traceback": [
      "\u001b[1;31m---------------------------------------------------------------------------\u001b[0m",
      "\u001b[1;31mNameError\u001b[0m                                 Traceback (most recent call last)",
      "Cell \u001b[1;32mIn[1], line 1\u001b[0m\n\u001b[1;32m----> 1\u001b[0m rand(\u001b[38;5;241m3\u001b[39m,\u001b[38;5;241m2\u001b[39m)\n",
      "\u001b[1;31mNameError\u001b[0m: name 'rand' is not defined"
     ]
    }
   ],
   "source": [
    "rand(3,2)"
   ]
  },
  {
   "cell_type": "code",
   "execution_count": 2,
   "id": "81de141e-a5fe-46bc-b19c-977b6d98e9a7",
   "metadata": {},
   "outputs": [
    {
     "ename": "NameError",
     "evalue": "name 'rand' is not defined",
     "output_type": "error",
     "traceback": [
      "\u001b[1;31m---------------------------------------------------------------------------\u001b[0m",
      "\u001b[1;31mNameError\u001b[0m                                 Traceback (most recent call last)",
      "Cell \u001b[1;32mIn[2], line 1\u001b[0m\n\u001b[1;32m----> 1\u001b[0m rand(\u001b[38;5;241m3\u001b[39m,\u001b[38;5;241m2\u001b[39m)\n\u001b[0;32m      2\u001b[0m random\u001b[38;5;241m.\u001b[39mrand(\u001b[38;5;241m3\u001b[39m,\u001b[38;5;241m2\u001b[39m)\n",
      "\u001b[1;31mNameError\u001b[0m: name 'rand' is not defined"
     ]
    }
   ],
   "source": [
    "rand(3,2)\n",
    "random.rand(3,2)"
   ]
  },
  {
   "cell_type": "code",
   "execution_count": 4,
   "id": "58666937-ccfa-4f15-be60-c527c3c9fa33",
   "metadata": {},
   "outputs": [],
   "source": [
    "import numpy as np"
   ]
  },
  {
   "cell_type": "code",
   "execution_count": 5,
   "id": "6e02348a-cb01-4af4-8a1b-ff2138d2c644",
   "metadata": {},
   "outputs": [
    {
     "data": {
      "text/plain": [
       "array([0.36905765, 0.88554364, 0.64365694, 0.01677159, 0.02053888])"
      ]
     },
     "execution_count": 5,
     "metadata": {},
     "output_type": "execute_result"
    }
   ],
   "source": [
    "np.random.rand(5)"
   ]
  },
  {
   "cell_type": "code",
   "execution_count": 6,
   "id": "ed4725b5-0392-4f69-ae8e-773c193d19ff",
   "metadata": {},
   "outputs": [
    {
     "ename": "AttributeError",
     "evalue": "module 'numpy' has no attribute 'rand'",
     "output_type": "error",
     "traceback": [
      "\u001b[1;31m---------------------------------------------------------------------------\u001b[0m",
      "\u001b[1;31mAttributeError\u001b[0m                            Traceback (most recent call last)",
      "Cell \u001b[1;32mIn[6], line 1\u001b[0m\n\u001b[1;32m----> 1\u001b[0m np\u001b[38;5;241m.\u001b[39mrand(\u001b[38;5;241m4\u001b[39m)\n",
      "File \u001b[1;32m~\\anaconda3\\Lib\\site-packages\\numpy\\__init__.py:333\u001b[0m, in \u001b[0;36m__getattr__\u001b[1;34m(attr)\u001b[0m\n\u001b[0;32m    330\u001b[0m     \u001b[38;5;124m\"\u001b[39m\u001b[38;5;124mRemoved in NumPy 1.25.0\u001b[39m\u001b[38;5;124m\"\u001b[39m\n\u001b[0;32m    331\u001b[0m     \u001b[38;5;28;01mraise\u001b[39;00m \u001b[38;5;167;01mRuntimeError\u001b[39;00m(\u001b[38;5;124m\"\u001b[39m\u001b[38;5;124mTester was removed in NumPy 1.25.\u001b[39m\u001b[38;5;124m\"\u001b[39m)\n\u001b[1;32m--> 333\u001b[0m \u001b[38;5;28;01mraise\u001b[39;00m \u001b[38;5;167;01mAttributeError\u001b[39;00m(\u001b[38;5;124m\"\u001b[39m\u001b[38;5;124mmodule \u001b[39m\u001b[38;5;132;01m{!r}\u001b[39;00m\u001b[38;5;124m has no attribute \u001b[39m\u001b[38;5;124m\"\u001b[39m\n\u001b[0;32m    334\u001b[0m                      \u001b[38;5;124m\"\u001b[39m\u001b[38;5;132;01m{!r}\u001b[39;00m\u001b[38;5;124m\"\u001b[39m\u001b[38;5;241m.\u001b[39mformat(\u001b[38;5;18m__name__\u001b[39m, attr))\n",
      "\u001b[1;31mAttributeError\u001b[0m: module 'numpy' has no attribute 'rand'"
     ]
    }
   ],
   "source": [
    "np.rand(4)"
   ]
  },
  {
   "cell_type": "code",
   "execution_count": 7,
   "id": "4e8fdc29-a6a5-4a3e-94ec-e1d31008ba3d",
   "metadata": {},
   "outputs": [
    {
     "data": {
      "text/plain": [
       "array([[0.10702006, 0.25142655, 0.18882739, 0.18414695],\n",
       "       [0.0127013 , 0.67201454, 0.16262477, 0.50442857]])"
      ]
     },
     "execution_count": 7,
     "metadata": {},
     "output_type": "execute_result"
    }
   ],
   "source": [
    "np.random.rand(2,4)"
   ]
  },
  {
   "cell_type": "code",
   "execution_count": 8,
   "id": "0a13c63e-3e18-48c4-9869-74679408fee3",
   "metadata": {},
   "outputs": [
    {
     "data": {
      "text/plain": [
       "3"
      ]
     },
     "execution_count": 8,
     "metadata": {},
     "output_type": "execute_result"
    }
   ],
   "source": [
    "np.random.randint(2,4)"
   ]
  },
  {
   "cell_type": "code",
   "execution_count": 12,
   "id": "bea03e28-dd05-445c-87c1-83c5363678d7",
   "metadata": {},
   "outputs": [
    {
     "data": {
      "text/plain": [
       "13"
      ]
     },
     "execution_count": 12,
     "metadata": {},
     "output_type": "execute_result"
    }
   ],
   "source": [
    "np.random.randint(2,20)  #secound argument is exlusive"
   ]
  },
  {
   "cell_type": "code",
   "execution_count": 13,
   "id": "a13218cf-84e8-430b-aa38-ae3c3b6cd195",
   "metadata": {},
   "outputs": [
    {
     "data": {
      "text/plain": [
       "0"
      ]
     },
     "execution_count": 13,
     "metadata": {},
     "output_type": "execute_result"
    }
   ],
   "source": [
    "np.random.randint(0,1)"
   ]
  },
  {
   "cell_type": "code",
   "execution_count": 15,
   "id": "90432f3b-f841-4535-869c-a4a9b6dae302",
   "metadata": {},
   "outputs": [
    {
     "data": {
      "text/plain": [
       "array([2, 3, 2, 5])"
      ]
     },
     "execution_count": 15,
     "metadata": {},
     "output_type": "execute_result"
    }
   ],
   "source": [
    "np.random.randint(1,6,4)"
   ]
  },
  {
   "cell_type": "code",
   "execution_count": 16,
   "id": "988ba9c1-735a-4d49-8f14-3fbf9b33099a",
   "metadata": {},
   "outputs": [
    {
     "data": {
      "text/plain": [
       "array([0.71810595, 0.76306145, 0.29365506])"
      ]
     },
     "execution_count": 16,
     "metadata": {},
     "output_type": "execute_result"
    }
   ],
   "source": [
    "np.random.rand(3)"
   ]
  },
  {
   "cell_type": "code",
   "execution_count": 17,
   "id": "6e9674c5-4558-4acc-be47-b80fe64dca72",
   "metadata": {},
   "outputs": [
    {
     "data": {
      "text/plain": [
       "0"
      ]
     },
     "execution_count": 17,
     "metadata": {},
     "output_type": "execute_result"
    }
   ],
   "source": [
    "np.random.randint(1)"
   ]
  },
  {
   "cell_type": "code",
   "execution_count": 19,
   "id": "f4498e0d-923c-40f6-9f70-4049fb3216da",
   "metadata": {},
   "outputs": [
    {
     "data": {
      "text/plain": [
       "array([17, 12, 18, 17, 15, 12, 12, 13, 15, 17, 19, 18, 16, 15, 14, 10, 19,\n",
       "       16, 16, 12, 13, 10, 13, 12, 11, 15, 13, 11, 15, 16])"
      ]
     },
     "execution_count": 19,
     "metadata": {},
     "output_type": "execute_result"
    }
   ],
   "source": [
    "np.random.randint(10,20,30)"
   ]
  },
  {
   "cell_type": "code",
   "execution_count": 20,
   "id": "742ecb6d-266d-4035-84e3-09ecd3ad4dfc",
   "metadata": {},
   "outputs": [
    {
     "data": {
      "text/plain": [
       "array([-20,  -3,  19,  -4, -17,   2, -13,  -1,   8,  14])"
      ]
     },
     "execution_count": 20,
     "metadata": {},
     "output_type": "execute_result"
    }
   ],
   "source": [
    "np.random.randint(-30,20,10)"
   ]
  },
  {
   "cell_type": "code",
   "execution_count": 21,
   "id": "04e6fd5e-1a3c-4b04-bec0-9a9ebf651aeb",
   "metadata": {},
   "outputs": [
    {
     "data": {
      "text/plain": [
       "array([23, 26, 21, 23, 24, 21, 22, 26, 25, 20])"
      ]
     },
     "execution_count": 21,
     "metadata": {},
     "output_type": "execute_result"
    }
   ],
   "source": [
    "np.random.randint(20,30,10)  # 20 start 30 end 10 size "
   ]
  },
  {
   "cell_type": "code",
   "execution_count": 22,
   "id": "c44da915-2321-469e-8b6d-1deb342cdf57",
   "metadata": {},
   "outputs": [
    {
     "data": {
      "text/plain": [
       "8"
      ]
     },
     "execution_count": 22,
     "metadata": {},
     "output_type": "execute_result"
    }
   ],
   "source": [
    "np.random.randint(5,9) #it will genrate random number between 5 to 9"
   ]
  },
  {
   "cell_type": "code",
   "execution_count": 26,
   "id": "f1852376-85af-4b1f-a1ba-a2292619656e",
   "metadata": {},
   "outputs": [
    {
     "data": {
      "text/plain": [
       "array([10, 17, 20])"
      ]
     },
     "execution_count": 26,
     "metadata": {},
     "output_type": "execute_result"
    }
   ],
   "source": [
    "np.random.randint(10,21,3)"
   ]
  },
  {
   "cell_type": "code",
   "execution_count": 27,
   "id": "4331588f-57ce-438f-bf3f-ec029976a679",
   "metadata": {},
   "outputs": [
    {
     "data": {
      "text/plain": [
       "array([ 7,  8, 11, 10,  3,  1, 11,  1,  1,  6])"
      ]
     },
     "execution_count": 27,
     "metadata": {},
     "output_type": "execute_result"
    }
   ],
   "source": [
    "np.random.randint(1,12,10)"
   ]
  },
  {
   "cell_type": "code",
   "execution_count": 28,
   "id": "9b6f3617-1d91-49f1-ac35-388005a9515b",
   "metadata": {},
   "outputs": [
    {
     "data": {
      "text/plain": [
       "array([[17, 22, 33, 39, 34, 28, 25, 21, 23, 36],\n",
       "       [24, 17, 15, 11, 25, 21, 36, 17, 27, 22],\n",
       "       [12, 16, 12, 21, 20, 27, 25, 33, 30, 32],\n",
       "       [33, 25, 20, 18, 23, 35, 39, 30, 19, 23],\n",
       "       [13, 33, 17, 35, 13, 23, 39, 26, 17, 10],\n",
       "       [32, 19, 32, 23, 33, 21, 12, 22, 24, 12],\n",
       "       [20, 34, 29, 35, 37, 11, 28, 16, 28, 39],\n",
       "       [19, 14, 39, 27, 14, 18, 36, 16, 33, 32],\n",
       "       [16, 39, 24, 23, 34, 30, 31, 39, 22, 22],\n",
       "       [28, 33, 38, 16, 24, 30, 20, 17, 25, 10]])"
      ]
     },
     "execution_count": 28,
     "metadata": {},
     "output_type": "execute_result"
    }
   ],
   "source": [
    "np.random.randint(10,40,(10,10))"
   ]
  },
  {
   "cell_type": "code",
   "execution_count": 29,
   "id": "45e6875a-66d8-4abf-b169-95baa07d6f67",
   "metadata": {},
   "outputs": [
    {
     "data": {
      "text/plain": [
       "array([[28, 74, 71, 70, 23, 63, 91, 67, 43,  5, 10, 43],\n",
       "       [38, 26, 11,  6, 22, 56, 28, 89, 89,  5, 51, 66],\n",
       "       [19, 14, 38, 73, 42, 43, 48, 96, 47,  6, 94, 81],\n",
       "       [58, 76, 77, 36, 99, 28, 16, 47, 30, 93,  3, 52],\n",
       "       [39, 83, 87, 95, 99, 20, 97,  4, 82,  8,  6, 67],\n",
       "       [ 1, 52,  1, 67, 43,  9, 60, 78, 24, 35,  9, 47],\n",
       "       [33, 38, 85, 98, 36, 90, 56, 77, 28, 49, 66, 65],\n",
       "       [36, 98,  5, 56, 96, 51, 44, 48, 24,  3,  4, 40],\n",
       "       [66,  9, 61, 95, 31, 72, 73, 30, 37, 85, 91, 93],\n",
       "       [95, 32, 47, 29, 98, 19, 72, 76, 24, 15, 20, 58],\n",
       "       [90, 39, 25, 65, 84, 94,  8, 29, 25, 73, 21, 19],\n",
       "       [88, 63, 40, 91, 19, 19, 29,  3, 19, 15, 55, 59]])"
      ]
     },
     "execution_count": 29,
     "metadata": {},
     "output_type": "execute_result"
    }
   ],
   "source": [
    "np.random.randint(1,100,(12,12)) #here the matrix is 12 * 12 and it genrates the vale between 1 to 99"
   ]
  },
  {
   "cell_type": "code",
   "execution_count": 31,
   "id": "d9a7558e-74fd-4171-9d83-0d5b6c9991d9",
   "metadata": {},
   "outputs": [
    {
     "data": {
      "text/plain": [
       "array([[ 1,  2,  3,  4],\n",
       "       [ 5,  6,  7,  8],\n",
       "       [ 9, 10, 11, 12]])"
      ]
     },
     "execution_count": 31,
     "metadata": {},
     "output_type": "execute_result"
    }
   ],
   "source": [
    "np.arange(1,13).reshape(3,4) #reshape means 3 rows and 4 columns nither it is look like list"
   ]
  },
  {
   "cell_type": "code",
   "execution_count": 32,
   "id": "cfc07ec4-9945-4190-ac20-f54f7e0f3ce8",
   "metadata": {},
   "outputs": [
    {
     "data": {
      "text/plain": [
       "array([[ 1],\n",
       "       [ 2],\n",
       "       [ 3],\n",
       "       [ 4],\n",
       "       [ 5],\n",
       "       [ 6],\n",
       "       [ 7],\n",
       "       [ 8],\n",
       "       [ 9],\n",
       "       [10],\n",
       "       [11],\n",
       "       [12]])"
      ]
     },
     "execution_count": 32,
     "metadata": {},
     "output_type": "execute_result"
    }
   ],
   "source": [
    "np.arange(1,13).reshape(12,1)"
   ]
  },
  {
   "cell_type": "code",
   "execution_count": 33,
   "id": "b8460918-fd16-4e87-979a-4bf93139ad51",
   "metadata": {},
   "outputs": [
    {
     "data": {
      "text/plain": [
       "array([[13, 16, 10, 11],\n",
       "       [19, 16, 12, 16],\n",
       "       [18, 14, 18, 10],\n",
       "       [11, 18, 15, 16],\n",
       "       [11, 11, 17, 11]])"
      ]
     },
     "execution_count": 33,
     "metadata": {},
     "output_type": "execute_result"
    }
   ],
   "source": [
    "b= np.random.randint(10,20,(5,4))\n",
    "b\n"
   ]
  },
  {
   "cell_type": "code",
   "execution_count": 34,
   "id": "88182305-ad1f-492c-ad61-0221cfbe3b1d",
   "metadata": {},
   "outputs": [
    {
     "data": {
      "text/plain": [
       "numpy.ndarray"
      ]
     },
     "execution_count": 34,
     "metadata": {},
     "output_type": "execute_result"
    }
   ],
   "source": [
    "type(b)"
   ]
  },
  {
   "cell_type": "code",
   "execution_count": 35,
   "id": "aa28881e-7f47-409b-a3fc-f2633b51e27c",
   "metadata": {},
   "outputs": [
    {
     "data": {
      "text/plain": [
       "array([[13, 16, 10, 11],\n",
       "       [19, 16, 12, 16],\n",
       "       [18, 14, 18, 10],\n",
       "       [11, 18, 15, 16],\n",
       "       [11, 11, 17, 11]])"
      ]
     },
     "execution_count": 35,
     "metadata": {},
     "output_type": "execute_result"
    }
   ],
   "source": [
    "b"
   ]
  },
  {
   "cell_type": "code",
   "execution_count": 36,
   "id": "f9d7a7eb-e676-4613-8cb0-2e262de83a22",
   "metadata": {},
   "outputs": [
    {
     "data": {
      "text/plain": [
       "array([[13, 16, 10, 11],\n",
       "       [19, 16, 12, 16],\n",
       "       [18, 14, 18, 10],\n",
       "       [11, 18, 15, 16],\n",
       "       [11, 11, 17, 11]])"
      ]
     },
     "execution_count": 36,
     "metadata": {},
     "output_type": "execute_result"
    }
   ],
   "source": [
    "b[:]"
   ]
  },
  {
   "cell_type": "code",
   "execution_count": 37,
   "id": "46a96118-25f4-43b5-a322-0fb4d475de17",
   "metadata": {},
   "outputs": [
    {
     "data": {
      "text/plain": [
       "array([[19, 16, 12, 16],\n",
       "       [18, 14, 18, 10]])"
      ]
     },
     "execution_count": 37,
     "metadata": {},
     "output_type": "execute_result"
    }
   ],
   "source": [
    "b[1:3]"
   ]
  },
  {
   "cell_type": "code",
   "execution_count": 38,
   "id": "ad48708a-efa2-4828-a902-ccee2648bd13",
   "metadata": {},
   "outputs": [
    {
     "data": {
      "text/plain": [
       "array([[13, 16, 10, 11],\n",
       "       [19, 16, 12, 16],\n",
       "       [18, 14, 18, 10],\n",
       "       [11, 18, 15, 16],\n",
       "       [11, 11, 17, 11]])"
      ]
     },
     "execution_count": 38,
     "metadata": {},
     "output_type": "execute_result"
    }
   ],
   "source": [
    "b"
   ]
  },
  {
   "cell_type": "code",
   "execution_count": 39,
   "id": "903329b2-b6e2-48b9-90f3-1b97d0d0724f",
   "metadata": {},
   "outputs": [
    {
     "data": {
      "text/plain": [
       "array([[19, 16, 12, 16]])"
      ]
     },
     "execution_count": 39,
     "metadata": {},
     "output_type": "execute_result"
    }
   ],
   "source": [
    "b[1:2]"
   ]
  },
  {
   "cell_type": "code",
   "execution_count": 40,
   "id": "1817ee63-3658-4c52-82c0-c4f4d4ac4482",
   "metadata": {},
   "outputs": [
    {
     "data": {
      "text/plain": [
       "12"
      ]
     },
     "execution_count": 40,
     "metadata": {},
     "output_type": "execute_result"
    }
   ],
   "source": [
    "b[1,2] #for specific element we use (,) comma"
   ]
  },
  {
   "cell_type": "code",
   "execution_count": 41,
   "id": "b84dae44-3001-459c-9bfa-564cd1b626d0",
   "metadata": {},
   "outputs": [
    {
     "data": {
      "text/plain": [
       "11"
      ]
     },
     "execution_count": 41,
     "metadata": {},
     "output_type": "execute_result"
    }
   ],
   "source": [
    "b[4,3]"
   ]
  },
  {
   "cell_type": "code",
   "execution_count": 42,
   "id": "e872df45-2583-4754-835b-fa11659ab6d4",
   "metadata": {},
   "outputs": [
    {
     "data": {
      "text/plain": [
       "18"
      ]
     },
     "execution_count": 42,
     "metadata": {},
     "output_type": "execute_result"
    }
   ],
   "source": [
    "b[2,2]"
   ]
  },
  {
   "cell_type": "code",
   "execution_count": 43,
   "id": "913ceac8-0e2b-430a-9fe2-0cc842c40695",
   "metadata": {},
   "outputs": [
    {
     "data": {
      "text/plain": [
       "array([[13, 16, 10, 11],\n",
       "       [19, 16, 12, 16],\n",
       "       [18, 14, 18, 10],\n",
       "       [11, 18, 15, 16],\n",
       "       [11, 11, 17, 11]])"
      ]
     },
     "execution_count": 43,
     "metadata": {},
     "output_type": "execute_result"
    }
   ],
   "source": [
    "b"
   ]
  },
  {
   "cell_type": "code",
   "execution_count": 44,
   "id": "624d94a8-394e-427c-8e7a-11aab4fcbed9",
   "metadata": {},
   "outputs": [
    {
     "data": {
      "text/plain": [
       "16"
      ]
     },
     "execution_count": 44,
     "metadata": {},
     "output_type": "execute_result"
    }
   ],
   "source": [
    "b[1,-1]"
   ]
  },
  {
   "cell_type": "code",
   "execution_count": 45,
   "id": "877a9dfd-4422-4959-9629-7e1970710ff0",
   "metadata": {},
   "outputs": [
    {
     "data": {
      "text/plain": [
       "array([[13, 16, 10, 11],\n",
       "       [19, 16, 12, 16],\n",
       "       [18, 14, 18, 10],\n",
       "       [11, 18, 15, 16],\n",
       "       [11, 11, 17, 11]])"
      ]
     },
     "execution_count": 45,
     "metadata": {},
     "output_type": "execute_result"
    }
   ],
   "source": [
    "b"
   ]
  },
  {
   "cell_type": "code",
   "execution_count": 46,
   "id": "706621d9-5a39-49db-932b-6a79330bb6e5",
   "metadata": {},
   "outputs": [
    {
     "data": {
      "text/plain": [
       "array([[18, 14, 18, 10]])"
      ]
     },
     "execution_count": 46,
     "metadata": {},
     "output_type": "execute_result"
    }
   ],
   "source": [
    "b[2:3]"
   ]
  },
  {
   "cell_type": "code",
   "execution_count": 47,
   "id": "316a867b-f43f-4545-8055-170f0512a393",
   "metadata": {},
   "outputs": [
    {
     "data": {
      "text/plain": [
       "array([[13, 16, 10, 11],\n",
       "       [19, 16, 12, 16],\n",
       "       [18, 14, 18, 10]])"
      ]
     },
     "execution_count": 47,
     "metadata": {},
     "output_type": "execute_result"
    }
   ],
   "source": [
    "b[0:-2]"
   ]
  },
  {
   "cell_type": "code",
   "execution_count": 48,
   "id": "72d4c4b1-78fa-4098-9912-7ee7fbe52fe2",
   "metadata": {},
   "outputs": [
    {
     "data": {
      "text/plain": [
       "10"
      ]
     },
     "execution_count": 48,
     "metadata": {},
     "output_type": "execute_result"
    }
   ],
   "source": [
    "b[0,2]"
   ]
  },
  {
   "cell_type": "code",
   "execution_count": 49,
   "id": "357d6edb-b816-41a6-a7e1-a0a38a2d42b0",
   "metadata": {},
   "outputs": [
    {
     "data": {
      "text/plain": [
       "16"
      ]
     },
     "execution_count": 49,
     "metadata": {},
     "output_type": "execute_result"
    }
   ],
   "source": [
    "b[-5,-3]"
   ]
  },
  {
   "cell_type": "code",
   "execution_count": 50,
   "id": "7779ba84-0d7c-4692-bb30-0de84f131d28",
   "metadata": {},
   "outputs": [
    {
     "data": {
      "text/plain": [
       "12"
      ]
     },
     "execution_count": 50,
     "metadata": {},
     "output_type": "execute_result"
    }
   ],
   "source": [
    "b[-4,2]"
   ]
  },
  {
   "cell_type": "code",
   "execution_count": 51,
   "id": "480489d9-8f0c-42d7-9e0d-97fa5451b552",
   "metadata": {},
   "outputs": [
    {
     "data": {
      "text/plain": [
       "array([[12, 11, 11, 12],\n",
       "       [12, 15, 17, 19],\n",
       "       [18, 13, 13, 19],\n",
       "       [16, 17, 19, 16]])"
      ]
     },
     "execution_count": 51,
     "metadata": {},
     "output_type": "execute_result"
    }
   ],
   "source": [
    "np.random.randint(10,20,(4,4))"
   ]
  },
  {
   "cell_type": "code",
   "execution_count": 52,
   "id": "c8ffc997-3bf6-41e5-8ca6-d310b159c5af",
   "metadata": {},
   "outputs": [
    {
     "data": {
      "text/plain": [
       "array([[13, 16, 10, 11],\n",
       "       [19, 16, 12, 16],\n",
       "       [18, 14, 18, 10],\n",
       "       [11, 18, 15, 16],\n",
       "       [11, 11, 17, 11]])"
      ]
     },
     "execution_count": 52,
     "metadata": {},
     "output_type": "execute_result"
    }
   ],
   "source": [
    "b"
   ]
  },
  {
   "cell_type": "code",
   "execution_count": 53,
   "id": "7ac1b684-d4a1-445e-86dd-e9f1f2b79a9a",
   "metadata": {},
   "outputs": [
    {
     "data": {
      "text/plain": [
       "12"
      ]
     },
     "execution_count": 53,
     "metadata": {},
     "output_type": "execute_result"
    }
   ],
   "source": [
    "b[-4,-2]"
   ]
  },
  {
   "cell_type": "code",
   "execution_count": 54,
   "id": "8f443127-44fa-4b42-8ec4-048c400c1186",
   "metadata": {},
   "outputs": [
    {
     "data": {
      "text/plain": [
       "array([[19, 16, 12, 16]])"
      ]
     },
     "execution_count": 54,
     "metadata": {},
     "output_type": "execute_result"
    }
   ],
   "source": [
    "b[-4:2]"
   ]
  },
  {
   "cell_type": "markdown",
   "id": "19464eff-9f3b-4dd2-9a4c-8e00ae8c0096",
   "metadata": {},
   "source": [
    "Operation"
   ]
  },
  {
   "cell_type": "code",
   "execution_count": 56,
   "id": "22f546ef-70ed-48a6-97d6-0c547920ef43",
   "metadata": {},
   "outputs": [
    {
     "data": {
      "text/plain": [
       "array([13, 14, 13, 11, 18, 12, 10, 14, 16, 19])"
      ]
     },
     "execution_count": 56,
     "metadata": {},
     "output_type": "execute_result"
    }
   ],
   "source": [
    "a = np.random.randint(10,20,10)\n",
    "a"
   ]
  },
  {
   "cell_type": "code",
   "execution_count": 57,
   "id": "4678aa7d-4ed9-45b4-8e17-8159c10d4dfe",
   "metadata": {},
   "outputs": [
    {
     "data": {
      "text/plain": [
       "1845430408496"
      ]
     },
     "execution_count": 57,
     "metadata": {},
     "output_type": "execute_result"
    }
   ],
   "source": [
    "id(a)"
   ]
  },
  {
   "cell_type": "code",
   "execution_count": 60,
   "id": "f7536ef3-9ed7-49d9-abf2-01abf0ceab0d",
   "metadata": {},
   "outputs": [],
   "source": [
    "arr2 = np.random.randint(0,100,(10,10))"
   ]
  },
  {
   "cell_type": "code",
   "execution_count": 61,
   "id": "827a73d5-7692-4015-92cc-9ccfa7553b02",
   "metadata": {
    "scrolled": true
   },
   "outputs": [
    {
     "data": {
      "text/plain": [
       "array([[28, 83, 79, 58, 48, 78, 52, 66, 74, 18],\n",
       "       [25,  7,  0,  6, 80, 71, 43,  8, 56,  3],\n",
       "       [42, 49, 19, 68, 48, 95, 65, 85, 33, 60],\n",
       "       [40, 21, 46, 85, 46, 62, 23, 43, 16, 85],\n",
       "       [ 2, 71, 51, 15, 56, 67, 22, 98, 12, 97],\n",
       "       [81, 85, 20, 93, 88, 36, 23, 31, 38, 96],\n",
       "       [33, 74, 73, 26, 61, 75, 51, 70, 96, 97],\n",
       "       [89, 31, 15, 34, 16, 35, 18, 13, 73, 54],\n",
       "       [ 8, 74, 52, 27, 57, 24, 82, 78, 40, 27],\n",
       "       [85, 36, 35, 24, 55, 60, 53, 63, 55, 52]])"
      ]
     },
     "execution_count": 61,
     "metadata": {},
     "output_type": "execute_result"
    }
   ],
   "source": [
    "arr2"
   ]
  },
  {
   "cell_type": "code",
   "execution_count": 62,
   "id": "ba678528-dbca-4ba7-a29e-ee72e8f6fa5c",
   "metadata": {},
   "outputs": [],
   "source": [
    "arr =[0,1,2,3,4,5]"
   ]
  },
  {
   "cell_type": "code",
   "execution_count": 63,
   "id": "e37d5d31-af80-4c60-a570-a27178812335",
   "metadata": {},
   "outputs": [
    {
     "data": {
      "text/plain": [
       "[0, 1, 2, 3, 4, 5]"
      ]
     },
     "execution_count": 63,
     "metadata": {},
     "output_type": "execute_result"
    }
   ],
   "source": [
    "arr"
   ]
  },
  {
   "cell_type": "code",
   "execution_count": 64,
   "id": "826ace4c-d8cb-4f3e-bbd9-391e511c1672",
   "metadata": {},
   "outputs": [
    {
     "data": {
      "text/plain": [
       "[0, 1, 2, 3]"
      ]
     },
     "execution_count": 64,
     "metadata": {},
     "output_type": "execute_result"
    }
   ],
   "source": [
    "arr[:4]"
   ]
  },
  {
   "cell_type": "code",
   "execution_count": 65,
   "id": "f9b6a3b8-a77a-4407-b00f-8afd9e508d83",
   "metadata": {},
   "outputs": [
    {
     "data": {
      "text/plain": [
       "array([[28, 83, 79, 58, 48, 78, 52, 66, 74, 18],\n",
       "       [25,  7,  0,  6, 80, 71, 43,  8, 56,  3],\n",
       "       [42, 49, 19, 68, 48, 95, 65, 85, 33, 60],\n",
       "       [40, 21, 46, 85, 46, 62, 23, 43, 16, 85],\n",
       "       [ 2, 71, 51, 15, 56, 67, 22, 98, 12, 97]])"
      ]
     },
     "execution_count": 65,
     "metadata": {},
     "output_type": "execute_result"
    }
   ],
   "source": [
    "arr2[0:5]"
   ]
  },
  {
   "cell_type": "code",
   "execution_count": 66,
   "id": "2f383bec-d249-4e0f-85d7-fb811edb214b",
   "metadata": {},
   "outputs": [
    {
     "data": {
      "text/plain": [
       "array([[28, 83, 79, 58, 48, 78, 52, 66, 74, 18],\n",
       "       [25,  7,  0,  6, 80, 71, 43,  8, 56,  3],\n",
       "       [42, 49, 19, 68, 48, 95, 65, 85, 33, 60],\n",
       "       [40, 21, 46, 85, 46, 62, 23, 43, 16, 85],\n",
       "       [ 2, 71, 51, 15, 56, 67, 22, 98, 12, 97],\n",
       "       [81, 85, 20, 93, 88, 36, 23, 31, 38, 96],\n",
       "       [33, 74, 73, 26, 61, 75, 51, 70, 96, 97],\n",
       "       [89, 31, 15, 34, 16, 35, 18, 13, 73, 54],\n",
       "       [ 8, 74, 52, 27, 57, 24, 82, 78, 40, 27],\n",
       "       [85, 36, 35, 24, 55, 60, 53, 63, 55, 52]])"
      ]
     },
     "execution_count": 66,
     "metadata": {},
     "output_type": "execute_result"
    }
   ],
   "source": [
    "arr2"
   ]
  },
  {
   "cell_type": "code",
   "execution_count": 67,
   "id": "a32d3d6b-b371-4ccc-9760-4e828391d42d",
   "metadata": {},
   "outputs": [
    {
     "data": {
      "text/plain": [
       "80"
      ]
     },
     "execution_count": 67,
     "metadata": {},
     "output_type": "execute_result"
    }
   ],
   "source": [
    "arr2[1,4]"
   ]
  },
  {
   "cell_type": "code",
   "execution_count": 68,
   "id": "5ada09da-5e6d-422f-8ce3-da59773a03cd",
   "metadata": {},
   "outputs": [
    {
     "data": {
      "text/plain": [
       "36"
      ]
     },
     "execution_count": 68,
     "metadata": {},
     "output_type": "execute_result"
    }
   ],
   "source": [
    "arr2[-5,5]"
   ]
  },
  {
   "cell_type": "code",
   "execution_count": 69,
   "id": "a35e0571-e32b-4da8-8021-6481b132726a",
   "metadata": {},
   "outputs": [
    {
     "data": {
      "text/plain": [
       "36"
      ]
     },
     "execution_count": 69,
     "metadata": {},
     "output_type": "execute_result"
    }
   ],
   "source": [
    "arr2[-5,-5]"
   ]
  },
  {
   "cell_type": "code",
   "execution_count": 70,
   "id": "3462b610-d4e2-4c92-a871-afb76a24da8f",
   "metadata": {},
   "outputs": [
    {
     "data": {
      "text/plain": [
       "55"
      ]
     },
     "execution_count": 70,
     "metadata": {},
     "output_type": "execute_result"
    }
   ],
   "source": [
    "arr2 [-1,-2]"
   ]
  },
  {
   "cell_type": "code",
   "execution_count": 71,
   "id": "5ec53d10-82f4-4c1d-b65d-e3129f0272ee",
   "metadata": {},
   "outputs": [
    {
     "data": {
      "text/plain": [
       "array([[85, 36, 35, 24, 55, 60, 53, 63, 55, 52],\n",
       "       [ 8, 74, 52, 27, 57, 24, 82, 78, 40, 27],\n",
       "       [89, 31, 15, 34, 16, 35, 18, 13, 73, 54],\n",
       "       [33, 74, 73, 26, 61, 75, 51, 70, 96, 97],\n",
       "       [81, 85, 20, 93, 88, 36, 23, 31, 38, 96],\n",
       "       [ 2, 71, 51, 15, 56, 67, 22, 98, 12, 97],\n",
       "       [40, 21, 46, 85, 46, 62, 23, 43, 16, 85],\n",
       "       [42, 49, 19, 68, 48, 95, 65, 85, 33, 60],\n",
       "       [25,  7,  0,  6, 80, 71, 43,  8, 56,  3],\n",
       "       [28, 83, 79, 58, 48, 78, 52, 66, 74, 18]])"
      ]
     },
     "execution_count": 71,
     "metadata": {},
     "output_type": "execute_result"
    }
   ],
   "source": [
    "arr2[::-1]"
   ]
  },
  {
   "cell_type": "code",
   "execution_count": 72,
   "id": "a9ccc092-5d1c-44aa-98a4-f70ae606634b",
   "metadata": {},
   "outputs": [
    {
     "data": {
      "text/plain": [
       "array([[28, 83, 79, 58, 48, 78, 52, 66, 74, 18],\n",
       "       [25,  7,  0,  6, 80, 71, 43,  8, 56,  3],\n",
       "       [42, 49, 19, 68, 48, 95, 65, 85, 33, 60],\n",
       "       [40, 21, 46, 85, 46, 62, 23, 43, 16, 85],\n",
       "       [ 2, 71, 51, 15, 56, 67, 22, 98, 12, 97],\n",
       "       [81, 85, 20, 93, 88, 36, 23, 31, 38, 96],\n",
       "       [33, 74, 73, 26, 61, 75, 51, 70, 96, 97],\n",
       "       [89, 31, 15, 34, 16, 35, 18, 13, 73, 54],\n",
       "       [ 8, 74, 52, 27, 57, 24, 82, 78, 40, 27],\n",
       "       [85, 36, 35, 24, 55, 60, 53, 63, 55, 52]])"
      ]
     },
     "execution_count": 72,
     "metadata": {},
     "output_type": "execute_result"
    }
   ],
   "source": [
    "arr2"
   ]
  },
  {
   "cell_type": "code",
   "execution_count": 73,
   "id": "c03055b5-5fc6-44f9-bd6e-c6896dce4ad2",
   "metadata": {},
   "outputs": [
    {
     "data": {
      "text/plain": [
       "array([[85, 36, 35, 24, 55, 60, 53, 63, 55, 52],\n",
       "       [89, 31, 15, 34, 16, 35, 18, 13, 73, 54],\n",
       "       [81, 85, 20, 93, 88, 36, 23, 31, 38, 96],\n",
       "       [40, 21, 46, 85, 46, 62, 23, 43, 16, 85],\n",
       "       [25,  7,  0,  6, 80, 71, 43,  8, 56,  3]])"
      ]
     },
     "execution_count": 73,
     "metadata": {},
     "output_type": "execute_result"
    }
   ],
   "source": [
    "arr2[::-2]"
   ]
  },
  {
   "cell_type": "code",
   "execution_count": 74,
   "id": "f06a2e31-9a36-4e45-9cf6-dda9ebbf0e9b",
   "metadata": {},
   "outputs": [
    {
     "data": {
      "text/plain": [
       "array([[85, 36, 35, 24, 55, 60, 53, 63, 55, 52],\n",
       "       [33, 74, 73, 26, 61, 75, 51, 70, 96, 97],\n",
       "       [40, 21, 46, 85, 46, 62, 23, 43, 16, 85],\n",
       "       [28, 83, 79, 58, 48, 78, 52, 66, 74, 18]])"
      ]
     },
     "execution_count": 74,
     "metadata": {},
     "output_type": "execute_result"
    }
   ],
   "source": [
    "arr2[::-3]"
   ]
  },
  {
   "cell_type": "code",
   "execution_count": null,
   "id": "29ba1d1c-bd32-4bb8-8189-a381deed4a77",
   "metadata": {},
   "outputs": [],
   "source": []
  }
 ],
 "metadata": {
  "kernelspec": {
   "display_name": "Python [conda env:base] *",
   "language": "python",
   "name": "conda-base-py"
  },
  "language_info": {
   "codemirror_mode": {
    "name": "ipython",
    "version": 3
   },
   "file_extension": ".py",
   "mimetype": "text/x-python",
   "name": "python",
   "nbconvert_exporter": "python",
   "pygments_lexer": "ipython3",
   "version": "3.12.7"
  }
 },
 "nbformat": 4,
 "nbformat_minor": 5
}
