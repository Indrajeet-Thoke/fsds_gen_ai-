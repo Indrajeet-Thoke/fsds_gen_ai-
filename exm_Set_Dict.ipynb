{
 "cells": [
  {
   "cell_type": "markdown",
   "id": "d1a1eb53-3493-4a39-a6f3-fe18af2e760f",
   "metadata": {},
   "source": [
    "# "
   ]
  },
  {
   "cell_type": "code",
   "execution_count": 2,
   "id": "b4d23897-7b2a-4e00-9923-d7a18251e35b",
   "metadata": {},
   "outputs": [
    {
     "data": {
      "text/plain": [
       "{1, 2, 3, 4, 5}"
      ]
     },
     "execution_count": 2,
     "metadata": {},
     "output_type": "execute_result"
    }
   ],
   "source": [
    "myset = {1,2,3,4,5} #set of number\n",
    "myset"
   ]
  },
  {
   "cell_type": "code",
   "execution_count": 3,
   "id": "d87ab459-088a-469c-990b-2d0d7c4f8a02",
   "metadata": {},
   "outputs": [
    {
     "data": {
      "text/plain": [
       "5"
      ]
     },
     "execution_count": 3,
     "metadata": {},
     "output_type": "execute_result"
    }
   ],
   "source": [
    "len(myset) #length of the set"
   ]
  },
  {
   "cell_type": "code",
   "execution_count": 4,
   "id": "779085aa-f220-49fb-9724-0447e259d636",
   "metadata": {},
   "outputs": [
    {
     "data": {
      "text/plain": [
       "{1, 2, 3, 4, 5}"
      ]
     },
     "execution_count": 4,
     "metadata": {},
     "output_type": "execute_result"
    }
   ],
   "source": [
    "my_set = {1,1,2,2,3,4,5,5} #duplicate elements are not alliowed\n",
    "my_set"
   ]
  },
  {
   "cell_type": "code",
   "execution_count": 5,
   "id": "f3a89b32-6821-4948-bf76-bc26ed664b2b",
   "metadata": {},
   "outputs": [
    {
     "data": {
      "text/plain": [
       "{1.79, 2.08, 3.99, 4.56, 5.45}"
      ]
     },
     "execution_count": 5,
     "metadata": {},
     "output_type": "execute_result"
    }
   ],
   "source": [
    "myset1 = {1.79,2.08,3.99,4.56,5.45} #set of float number\n",
    "myset1"
   ]
  },
  {
   "cell_type": "code",
   "execution_count": 6,
   "id": "dfc4e2d0-c3ae-44cd-941e-9595171e353d",
   "metadata": {},
   "outputs": [
    {
     "data": {
      "text/plain": [
       "{'indrajeet', 'john', 'tyrion'}"
      ]
     },
     "execution_count": 6,
     "metadata": {},
     "output_type": "execute_result"
    }
   ],
   "source": [
    "myset2 = {'indrajeet', 'john', 'tyrion'} #set of string\n",
    "myset2"
   ]
  },
  {
   "cell_type": "code",
   "execution_count": 7,
   "id": "4ffdb0af-7090-4e8c-a343-41007f819116",
   "metadata": {},
   "outputs": [
    {
     "name": "stdout",
     "output_type": "stream",
     "text": [
      "<class 'set'>\n"
     ]
    }
   ],
   "source": [
    "myset4 = set() #create an empty set\n",
    "print(type(myset4))"
   ]
  },
  {
   "cell_type": "code",
   "execution_count": 8,
   "id": "76800a72-453a-4730-b2bb-972336305a57",
   "metadata": {},
   "outputs": [
    {
     "data": {
      "text/plain": [
       "{'four', 'one', 'three', 'two'}"
      ]
     },
     "execution_count": 8,
     "metadata": {},
     "output_type": "execute_result"
    }
   ],
   "source": [
    "my_set1 = set(('one', 'two', 'three', 'four'))\n",
    "my_set1"
   ]
  },
  {
   "cell_type": "code",
   "execution_count": 9,
   "id": "ecce9e9f-5348-49df-83c2-61ec6a5ac864",
   "metadata": {},
   "outputs": [
    {
     "name": "stdout",
     "output_type": "stream",
     "text": [
      "seven\n",
      "two\n",
      "one\n",
      "eight\n",
      "three\n",
      "six\n",
      "four\n",
      "five\n"
     ]
    }
   ],
   "source": [
    "myset = {'one', 'two', 'three', 'four', 'five', 'six', 'seven', 'eight'}\n",
    "\n",
    "for i in myset:\n",
    "    print(i)"
   ]
  },
  {
   "cell_type": "code",
   "execution_count": 10,
   "id": "428f2545-4357-4631-a022-a9557fa08655",
   "metadata": {},
   "outputs": [
    {
     "name": "stdout",
     "output_type": "stream",
     "text": [
      "(0, 'seven')\n",
      "(1, 'two')\n",
      "(2, 'one')\n",
      "(3, 'eight')\n",
      "(4, 'three')\n",
      "(5, 'six')\n",
      "(6, 'four')\n",
      "(7, 'five')\n"
     ]
    }
   ],
   "source": [
    "for i in enumerate(myset):\n",
    "    print(i)"
   ]
  },
  {
   "cell_type": "code",
   "execution_count": 11,
   "id": "3985cc19-c894-4b8f-a4f0-951caddb0f24",
   "metadata": {},
   "outputs": [
    {
     "data": {
      "text/plain": [
       "{'eight', 'five', 'four', 'one', 'seven', 'six', 'three', 'two'}"
      ]
     },
     "execution_count": 11,
     "metadata": {},
     "output_type": "execute_result"
    }
   ],
   "source": [
    "myset"
   ]
  },
  {
   "cell_type": "code",
   "execution_count": 12,
   "id": "53aedb53-f303-45b2-878e-bbe05999a95a",
   "metadata": {},
   "outputs": [
    {
     "data": {
      "text/plain": [
       "True"
      ]
     },
     "execution_count": 12,
     "metadata": {},
     "output_type": "execute_result"
    }
   ],
   "source": [
    "'one' in myset"
   ]
  },
  {
   "cell_type": "code",
   "execution_count": 13,
   "id": "c8369de1-a380-4fa6-a414-50c4f1c0a9f3",
   "metadata": {},
   "outputs": [
    {
     "data": {
      "text/plain": [
       "False"
      ]
     },
     "execution_count": 13,
     "metadata": {},
     "output_type": "execute_result"
    }
   ],
   "source": [
    "\"ten\" in myset"
   ]
  },
  {
   "cell_type": "code",
   "execution_count": 15,
   "id": "48f5b8bc-3b33-4cfd-806a-11206d55666b",
   "metadata": {},
   "outputs": [
    {
     "name": "stdout",
     "output_type": "stream",
     "text": [
      "three is present in myset\n"
     ]
    }
   ],
   "source": [
    "if \"three\" in myset:\n",
    "    print(\"three is present in myset\")\n",
    "else:\n",
    "    print(\"three is not present in myset\")"
   ]
  },
  {
   "cell_type": "code",
   "execution_count": 16,
   "id": "f9907dc8-180b-4bfa-8acf-63921703a4cb",
   "metadata": {},
   "outputs": [
    {
     "name": "stdout",
     "output_type": "stream",
     "text": [
      "eleven is not present in myset\n"
     ]
    }
   ],
   "source": [
    "if \"eleven\" in myset:\n",
    "    print(\"eleven is present in myset\")\n",
    "else:\n",
    "    print(\"eleven is not present in myset\")"
   ]
  },
  {
   "cell_type": "code",
   "execution_count": 17,
   "id": "cb964153-ff53-4c78-acf8-2dd16119650d",
   "metadata": {},
   "outputs": [
    {
     "data": {
      "text/plain": [
       "{'eight', 'five', 'four', 'one', 'seven', 'six', 'three', 'two'}"
      ]
     },
     "execution_count": 17,
     "metadata": {},
     "output_type": "execute_result"
    }
   ],
   "source": [
    "myset"
   ]
  },
  {
   "cell_type": "code",
   "execution_count": 22,
   "id": "b87ef25e-c247-4045-9823-7b8671ea789c",
   "metadata": {},
   "outputs": [
    {
     "data": {
      "text/plain": [
       "{'NINE',\n",
       " 'Nine',\n",
       " 'eight',\n",
       " 'five',\n",
       " 'four',\n",
       " 'one',\n",
       " 'seven',\n",
       " 'six',\n",
       " 'three',\n",
       " 'two'}"
      ]
     },
     "execution_count": 22,
     "metadata": {},
     "output_type": "execute_result"
    }
   ],
   "source": [
    "myset.add('Nine')\n",
    "myset"
   ]
  },
  {
   "cell_type": "code",
   "execution_count": 23,
   "id": "02719843-7594-4360-93c3-16b1669673b4",
   "metadata": {},
   "outputs": [
    {
     "data": {
      "text/plain": [
       "{'ELEVEN',\n",
       " 'NINE',\n",
       " 'Nine',\n",
       " 'TEN',\n",
       " 'TWELVE',\n",
       " 'eight',\n",
       " 'five',\n",
       " 'four',\n",
       " 'one',\n",
       " 'seven',\n",
       " 'six',\n",
       " 'three',\n",
       " 'two'}"
      ]
     },
     "execution_count": 23,
     "metadata": {},
     "output_type": "execute_result"
    }
   ],
   "source": [
    "myset.update(['TEN' , 'ELEVEN' , 'TWELVE'])\n",
    "myset"
   ]
  },
  {
   "cell_type": "code",
   "execution_count": 24,
   "id": "0b73ba28-800e-4bab-b4af-4eea7dec3d24",
   "metadata": {},
   "outputs": [
    {
     "data": {
      "text/plain": [
       "{'ELEVEN',\n",
       " 'Nine',\n",
       " 'TEN',\n",
       " 'TWELVE',\n",
       " 'eight',\n",
       " 'five',\n",
       " 'four',\n",
       " 'one',\n",
       " 'seven',\n",
       " 'six',\n",
       " 'three',\n",
       " 'two'}"
      ]
     },
     "execution_count": 24,
     "metadata": {},
     "output_type": "execute_result"
    }
   ],
   "source": [
    "myset.remove('NINE')\n",
    "myset"
   ]
  },
  {
   "cell_type": "code",
   "execution_count": 25,
   "id": "70d9cc1d-2073-488e-8f4d-10697df02f7e",
   "metadata": {},
   "outputs": [
    {
     "data": {
      "text/plain": [
       "{'ELEVEN',\n",
       " 'Nine',\n",
       " 'TWELVE',\n",
       " 'eight',\n",
       " 'five',\n",
       " 'four',\n",
       " 'one',\n",
       " 'seven',\n",
       " 'six',\n",
       " 'three',\n",
       " 'two'}"
      ]
     },
     "execution_count": 25,
     "metadata": {},
     "output_type": "execute_result"
    }
   ],
   "source": [
    "myset.discard('TEN')\n",
    "myset"
   ]
  },
  {
   "cell_type": "code",
   "execution_count": 26,
   "id": "438fc923-38b1-4d28-b3c5-1f4975fc77e2",
   "metadata": {},
   "outputs": [
    {
     "data": {
      "text/plain": [
       "set()"
      ]
     },
     "execution_count": 26,
     "metadata": {},
     "output_type": "execute_result"
    }
   ],
   "source": [
    "myset.clear()\n",
    "myset"
   ]
  },
  {
   "cell_type": "code",
   "execution_count": 27,
   "id": "dcffaf13-e4a0-4422-9ae7-b2b4b6d42b76",
   "metadata": {},
   "outputs": [
    {
     "ename": "NameError",
     "evalue": "name 'myset' is not defined",
     "output_type": "error",
     "traceback": [
      "\u001b[1;31m---------------------------------------------------------------------------\u001b[0m",
      "\u001b[1;31mNameError\u001b[0m                                 Traceback (most recent call last)",
      "Cell \u001b[1;32mIn[27], line 2\u001b[0m\n\u001b[0;32m      1\u001b[0m \u001b[38;5;28;01mdel\u001b[39;00m myset\n\u001b[1;32m----> 2\u001b[0m myset\n",
      "\u001b[1;31mNameError\u001b[0m: name 'myset' is not defined"
     ]
    }
   ],
   "source": [
    "del myset\n",
    "myset"
   ]
  },
  {
   "cell_type": "code",
   "execution_count": 28,
   "id": "1b4bbe64-a017-4d82-9fba-5a478bb34bbc",
   "metadata": {},
   "outputs": [
    {
     "data": {
      "text/plain": [
       "{'eight', 'five', 'four', 'one', 'seven', 'six', 'three', 'two'}"
      ]
     },
     "execution_count": 28,
     "metadata": {},
     "output_type": "execute_result"
    }
   ],
   "source": [
    "myset = {'one', 'two', 'three', 'four', 'five', 'six', 'seven', 'eight'}\n",
    "myset"
   ]
  },
  {
   "cell_type": "code",
   "execution_count": 29,
   "id": "39d9b580-b5e9-460a-b3b4-16e3eda5cee7",
   "metadata": {},
   "outputs": [
    {
     "data": {
      "text/plain": [
       "{'eight', 'five', 'four', 'one', 'seven', 'six', 'three', 'two'}"
      ]
     },
     "execution_count": 29,
     "metadata": {},
     "output_type": "execute_result"
    }
   ],
   "source": [
    "myset1 = myset\n",
    "myset1"
   ]
  },
  {
   "cell_type": "code",
   "execution_count": 30,
   "id": "c185087e-afa5-4df5-87b0-4e96b99154b2",
   "metadata": {},
   "outputs": [
    {
     "data": {
      "text/plain": [
       "(2317031530656, 2317031530656)"
      ]
     },
     "execution_count": 30,
     "metadata": {},
     "output_type": "execute_result"
    }
   ],
   "source": [
    "id(myset), id(myset1)"
   ]
  },
  {
   "cell_type": "code",
   "execution_count": 31,
   "id": "64fbda81-b052-4f5e-8efd-05ea14cc9035",
   "metadata": {},
   "outputs": [
    {
     "data": {
      "text/plain": [
       "{'eight', 'five', 'four', 'one', 'seven', 'six', 'three', 'two'}"
      ]
     },
     "execution_count": 31,
     "metadata": {},
     "output_type": "execute_result"
    }
   ],
   "source": [
    "my_set = myset.copy()\n",
    "my_set"
   ]
  },
  {
   "cell_type": "code",
   "execution_count": 32,
   "id": "f5c17d8e-de63-48f3-a8ee-9662f575e0ad",
   "metadata": {},
   "outputs": [
    {
     "data": {
      "text/plain": [
       "2317031532672"
      ]
     },
     "execution_count": 32,
     "metadata": {},
     "output_type": "execute_result"
    }
   ],
   "source": [
    "id(my_set)"
   ]
  },
  {
   "cell_type": "code",
   "execution_count": 33,
   "id": "62d63e24-e0ee-4910-81d2-a8a4c4497a25",
   "metadata": {},
   "outputs": [
    {
     "data": {
      "text/plain": [
       "{'eight', 'five', 'four', 'nine', 'one', 'seven', 'six', 'three', 'two'}"
      ]
     },
     "execution_count": 33,
     "metadata": {},
     "output_type": "execute_result"
    }
   ],
   "source": [
    "myset.add(\"nine\")\n",
    "myset"
   ]
  },
  {
   "cell_type": "code",
   "execution_count": 34,
   "id": "86e3ef58-0739-42c2-a29a-8a937747516b",
   "metadata": {},
   "outputs": [
    {
     "data": {
      "text/plain": [
       "{'eight', 'five', 'four', 'nine', 'one', 'seven', 'six', 'three', 'two'}"
      ]
     },
     "execution_count": 34,
     "metadata": {},
     "output_type": "execute_result"
    }
   ],
   "source": [
    "myset1"
   ]
  },
  {
   "cell_type": "code",
   "execution_count": 35,
   "id": "0e0e3f82-3904-49eb-813d-f3c01e063712",
   "metadata": {},
   "outputs": [
    {
     "data": {
      "text/plain": [
       "{'eight', 'five', 'four', 'one', 'seven', 'six', 'three', 'two'}"
      ]
     },
     "execution_count": 35,
     "metadata": {},
     "output_type": "execute_result"
    }
   ],
   "source": [
    "my_set"
   ]
  },
  {
   "cell_type": "code",
   "execution_count": 36,
   "id": "481b5ac8-5cbf-4607-bc52-99ec4b59b5b5",
   "metadata": {},
   "outputs": [],
   "source": [
    "A = {1,2,3,4,5}\n",
    "B = {4,5,6,7,8}\n",
    "C = {8,9,10}"
   ]
  },
  {
   "cell_type": "code",
   "execution_count": 37,
   "id": "69f8fb19-a91b-459d-a8e8-8a00710308b8",
   "metadata": {},
   "outputs": [
    {
     "data": {
      "text/plain": [
       "{1, 2, 3, 4, 5, 6, 7, 8}"
      ]
     },
     "execution_count": 37,
     "metadata": {},
     "output_type": "execute_result"
    }
   ],
   "source": [
    "A | B"
   ]
  },
  {
   "cell_type": "code",
   "execution_count": 38,
   "id": "2be51689-de99-4c61-b81c-9dc3d647ec1a",
   "metadata": {},
   "outputs": [
    {
     "data": {
      "text/plain": [
       "{1, 2, 3, 4, 5, 6, 7, 8}"
      ]
     },
     "execution_count": 38,
     "metadata": {},
     "output_type": "execute_result"
    }
   ],
   "source": [
    "A.union(B)"
   ]
  },
  {
   "cell_type": "code",
   "execution_count": 39,
   "id": "2338946c-0163-4ee9-9eb4-ff2f664ff0dd",
   "metadata": {},
   "outputs": [
    {
     "data": {
      "text/plain": [
       "{1, 2, 3, 4, 5, 6, 7, 8, 9, 10}"
      ]
     },
     "execution_count": 39,
     "metadata": {},
     "output_type": "execute_result"
    }
   ],
   "source": [
    "A.union(B,C)"
   ]
  },
  {
   "cell_type": "code",
   "execution_count": 40,
   "id": "593197df-7532-415f-852a-75a34840f988",
   "metadata": {},
   "outputs": [
    {
     "data": {
      "text/plain": [
       "{4, 5}"
      ]
     },
     "execution_count": 40,
     "metadata": {},
     "output_type": "execute_result"
    }
   ],
   "source": [
    "A & B"
   ]
  },
  {
   "cell_type": "code",
   "execution_count": 41,
   "id": "f33ac437-c22a-40ec-a273-83f77e7806b0",
   "metadata": {},
   "outputs": [
    {
     "data": {
      "text/plain": [
       "{1, 2, 3}"
      ]
     },
     "execution_count": 41,
     "metadata": {},
     "output_type": "execute_result"
    }
   ],
   "source": [
    "A - B"
   ]
  },
  {
   "cell_type": "code",
   "execution_count": 42,
   "id": "e61d7c09-e439-4153-9c58-849e123a9c19",
   "metadata": {},
   "outputs": [
    {
     "data": {
      "text/plain": [
       "{1, 2, 3}"
      ]
     },
     "execution_count": 42,
     "metadata": {},
     "output_type": "execute_result"
    }
   ],
   "source": [
    "A.difference(B)"
   ]
  },
  {
   "cell_type": "code",
   "execution_count": 43,
   "id": "728b3f5a-06c8-469a-a236-eb21bce12ee8",
   "metadata": {},
   "outputs": [
    {
     "data": {
      "text/plain": [
       "{6, 7, 8}"
      ]
     },
     "execution_count": 43,
     "metadata": {},
     "output_type": "execute_result"
    }
   ],
   "source": [
    "B - A"
   ]
  },
  {
   "cell_type": "code",
   "execution_count": 46,
   "id": "f8292e77-9ba6-4fdc-ba80-efd5b2c8971f",
   "metadata": {},
   "outputs": [],
   "source": [
    "B.difference_update(A)"
   ]
  },
  {
   "cell_type": "code",
   "execution_count": 47,
   "id": "9f617152-f886-426f-99ab-5387ba9cf13d",
   "metadata": {},
   "outputs": [],
   "source": [
    "A ={1,2,3,4,5}\n",
    "B ={4,5,6,7,8}"
   ]
  },
  {
   "cell_type": "code",
   "execution_count": 48,
   "id": "0dbf0e5e-ab9e-4178-98b5-53c0a8547a54",
   "metadata": {},
   "outputs": [
    {
     "data": {
      "text/plain": [
       "{1, 2, 3, 6, 7, 8}"
      ]
     },
     "execution_count": 48,
     "metadata": {},
     "output_type": "execute_result"
    }
   ],
   "source": [
    "A ^ B"
   ]
  },
  {
   "cell_type": "code",
   "execution_count": 49,
   "id": "ef5280bc-3f50-4f81-aa3a-bbbd8fcb95bf",
   "metadata": {},
   "outputs": [
    {
     "data": {
      "text/plain": [
       "{1, 2, 3, 6, 7, 8}"
      ]
     },
     "execution_count": 49,
     "metadata": {},
     "output_type": "execute_result"
    }
   ],
   "source": [
    "A.symmetric_difference(B)"
   ]
  },
  {
   "cell_type": "code",
   "execution_count": 52,
   "id": "5eb1c117-5bab-48b6-b6f6-4d2e60e7da7b",
   "metadata": {},
   "outputs": [],
   "source": [
    "A1 = {1,2,3,4,5,6,7,8,9}\n",
    "B1= {3,4,5,6,7,8}\n",
    "C1= {10,20,30,40}"
   ]
  },
  {
   "cell_type": "code",
   "execution_count": 53,
   "id": "59177d55-057b-480a-9ae2-c66618aae809",
   "metadata": {},
   "outputs": [
    {
     "data": {
      "text/plain": [
       "True"
      ]
     },
     "execution_count": 53,
     "metadata": {},
     "output_type": "execute_result"
    }
   ],
   "source": [
    "B1.issubset(A1)"
   ]
  },
  {
   "cell_type": "code",
   "execution_count": 55,
   "id": "81f96014-bfbe-4187-9284-f6fde4515095",
   "metadata": {},
   "outputs": [
    {
     "data": {
      "text/plain": [
       "True"
      ]
     },
     "execution_count": 55,
     "metadata": {},
     "output_type": "execute_result"
    }
   ],
   "source": [
    "A1.issuperset(B1)"
   ]
  },
  {
   "cell_type": "code",
   "execution_count": 56,
   "id": "8469d41c-1b1a-4db3-aeb4-09ae75e048b6",
   "metadata": {},
   "outputs": [
    {
     "data": {
      "text/plain": [
       "True"
      ]
     },
     "execution_count": 56,
     "metadata": {},
     "output_type": "execute_result"
    }
   ],
   "source": [
    "C1.isdisjoint(A1)"
   ]
  },
  {
   "cell_type": "code",
   "execution_count": 57,
   "id": "c0dff96b-8258-4321-bfbb-4a3f277118ff",
   "metadata": {},
   "outputs": [
    {
     "data": {
      "text/plain": [
       "False"
      ]
     },
     "execution_count": 57,
     "metadata": {},
     "output_type": "execute_result"
    }
   ],
   "source": [
    "B1.isdisjoint(A1)"
   ]
  },
  {
   "cell_type": "code",
   "execution_count": 58,
   "id": "54d17658-56d9-4d4f-b293-f8c22b1aafa3",
   "metadata": {},
   "outputs": [
    {
     "data": {
      "text/plain": [
       "{1, 2, 3, 4, 5}"
      ]
     },
     "execution_count": 58,
     "metadata": {},
     "output_type": "execute_result"
    }
   ],
   "source": [
    "A"
   ]
  },
  {
   "cell_type": "code",
   "execution_count": 59,
   "id": "8cc20b48-41c6-4373-a703-01f2cf6cd94f",
   "metadata": {},
   "outputs": [
    {
     "data": {
      "text/plain": [
       "15"
      ]
     },
     "execution_count": 59,
     "metadata": {},
     "output_type": "execute_result"
    }
   ],
   "source": [
    "sum(A)"
   ]
  },
  {
   "cell_type": "code",
   "execution_count": 61,
   "id": "cfac506a-3ba9-4f11-b3e1-d8b900e889bd",
   "metadata": {},
   "outputs": [
    {
     "data": {
      "text/plain": [
       "5"
      ]
     },
     "execution_count": 61,
     "metadata": {},
     "output_type": "execute_result"
    }
   ],
   "source": [
    "max(A)"
   ]
  },
  {
   "cell_type": "code",
   "execution_count": 62,
   "id": "2142a3ec-763b-4811-acf8-0987e3d2cfaf",
   "metadata": {},
   "outputs": [
    {
     "data": {
      "text/plain": [
       "1"
      ]
     },
     "execution_count": 62,
     "metadata": {},
     "output_type": "execute_result"
    }
   ],
   "source": [
    "min(A)"
   ]
  },
  {
   "cell_type": "code",
   "execution_count": 63,
   "id": "a5d17487-33a0-41f9-b798-bc9a99959b70",
   "metadata": {},
   "outputs": [
    {
     "data": {
      "text/plain": [
       "5"
      ]
     },
     "execution_count": 63,
     "metadata": {},
     "output_type": "execute_result"
    }
   ],
   "source": [
    "len(A)"
   ]
  },
  {
   "cell_type": "code",
   "execution_count": 64,
   "id": "4b72a220-b016-482f-86b9-fba5b136ee30",
   "metadata": {},
   "outputs": [
    {
     "data": {
      "text/plain": [
       "[(0, 1), (1, 2), (2, 3), (3, 4), (4, 5)]"
      ]
     },
     "execution_count": 64,
     "metadata": {},
     "output_type": "execute_result"
    }
   ],
   "source": [
    "list(enumerate(A))"
   ]
  },
  {
   "cell_type": "code",
   "execution_count": 65,
   "id": "f53b84f5-a2b5-45d0-a76c-9966e9026f3d",
   "metadata": {},
   "outputs": [
    {
     "data": {
      "text/plain": [
       "[5, 4, 3, 2, 1]"
      ]
     },
     "execution_count": 65,
     "metadata": {},
     "output_type": "execute_result"
    }
   ],
   "source": [
    "D = sorted(A,reverse=True)\n",
    "D"
   ]
  },
  {
   "cell_type": "code",
   "execution_count": 66,
   "id": "e5f283e0-5362-4d8a-a88d-c0993e1e38b5",
   "metadata": {},
   "outputs": [
    {
     "data": {
      "text/plain": [
       "[1, 2, 3, 4, 5]"
      ]
     },
     "execution_count": 66,
     "metadata": {},
     "output_type": "execute_result"
    }
   ],
   "source": [
    "sorted(D)"
   ]
  },
  {
   "cell_type": "markdown",
   "id": "d963eaf0-0bc3-4878-87ab-ad87a22cb81f",
   "metadata": {},
   "source": [
    "Dictionary"
   ]
  },
  {
   "cell_type": "code",
   "execution_count": 67,
   "id": "97d3ba13-9d03-4975-b28f-31f4f2313065",
   "metadata": {},
   "outputs": [
    {
     "data": {
      "text/plain": [
       "{}"
      ]
     },
     "execution_count": 67,
     "metadata": {},
     "output_type": "execute_result"
    }
   ],
   "source": [
    "mydict ={}\n",
    "mydict"
   ]
  },
  {
   "cell_type": "code",
   "execution_count": 68,
   "id": "4ef79acb-d119-4d5b-8dc5-0c9d4ee092c4",
   "metadata": {},
   "outputs": [
    {
     "data": {
      "text/plain": [
       "{1: 'one', 2: 'two', 3: 'three'}"
      ]
     },
     "execution_count": 68,
     "metadata": {},
     "output_type": "execute_result"
    }
   ],
   "source": [
    "mydict = {1: 'one' , 2: 'two', 3:'three'}\n",
    "mydict"
   ]
  },
  {
   "cell_type": "code",
   "execution_count": 69,
   "id": "06c8e1d6-d7b4-4fb0-82a9-48790b93f12c",
   "metadata": {},
   "outputs": [
    {
     "data": {
      "text/plain": [
       "{'A': 'one', 'B': 'two', 'C': 'three'}"
      ]
     },
     "execution_count": 69,
     "metadata": {},
     "output_type": "execute_result"
    }
   ],
   "source": [
    "mydict = {'A': 'one','B':'two', 'C': 'three'}\n",
    "mydict"
   ]
  },
  {
   "cell_type": "code",
   "execution_count": 70,
   "id": "759bada8-39d0-4927-94a0-d5cbf98ef4b4",
   "metadata": {},
   "outputs": [
    {
     "data": {
      "text/plain": [
       "{1: 'one', 'A': 'two', 3: 'three'}"
      ]
     },
     "execution_count": 70,
     "metadata": {},
     "output_type": "execute_result"
    }
   ],
   "source": [
    "mydict = {1:'one', 'A': 'two', 3: 'three'}\n",
    "mydict"
   ]
  },
  {
   "cell_type": "code",
   "execution_count": 71,
   "id": "211f2423-8783-447f-8350-ece724e4f589",
   "metadata": {},
   "outputs": [
    {
     "data": {
      "text/plain": [
       "dict_keys([1, 'A', 3])"
      ]
     },
     "execution_count": 71,
     "metadata": {},
     "output_type": "execute_result"
    }
   ],
   "source": [
    "mydict.keys()"
   ]
  },
  {
   "cell_type": "code",
   "execution_count": 73,
   "id": "11d8fd82-0d49-42ae-b8d1-ad633d511017",
   "metadata": {},
   "outputs": [
    {
     "data": {
      "text/plain": [
       "dict_values(['one', 'two', 'three'])"
      ]
     },
     "execution_count": 73,
     "metadata": {},
     "output_type": "execute_result"
    }
   ],
   "source": [
    "mydict.values()"
   ]
  },
  {
   "cell_type": "code",
   "execution_count": 74,
   "id": "7653dcb3-2006-42ec-993c-432f91c7d0e3",
   "metadata": {},
   "outputs": [
    {
     "data": {
      "text/plain": [
       "dict_items([(1, 'one'), ('A', 'two'), (3, 'three')])"
      ]
     },
     "execution_count": 74,
     "metadata": {},
     "output_type": "execute_result"
    }
   ],
   "source": [
    "mydict.items()"
   ]
  },
  {
   "cell_type": "code",
   "execution_count": 78,
   "id": "bb51cdc2-4fc5-4029-8c69-1a5c1c94dfb9",
   "metadata": {},
   "outputs": [
    {
     "data": {
      "text/plain": [
       "{1: 'one', 2: 'two', 'A': ['Indrajeet', 'john', 'maria']}"
      ]
     },
     "execution_count": 78,
     "metadata": {},
     "output_type": "execute_result"
    }
   ],
   "source": [
    "mydict = {1: 'one', 2:'two', 'A':['Indrajeet','john','maria']}\n",
    "mydict"
   ]
  },
  {
   "cell_type": "code",
   "execution_count": 81,
   "id": "1c23dfde-b9c6-4457-87d6-2271713ada0b",
   "metadata": {},
   "outputs": [
    {
     "data": {
      "text/plain": [
       "{1: 'one',\n",
       " 2: 'two',\n",
       " 'A': ['Indrajeet', 'John', 'Maria'],\n",
       " 'B': ('Bat', 'cat', 'hat')}"
      ]
     },
     "execution_count": 81,
     "metadata": {},
     "output_type": "execute_result"
    }
   ],
   "source": [
    "mydict = {1:'one', 2: 'two', 'A' :['Indrajeet','John','Maria'], 'B': ('Bat','cat','hat')}\n",
    "mydict"
   ]
  },
  {
   "cell_type": "code",
   "execution_count": 86,
   "id": "3f3968eb-641b-4108-a69a-31f6d4ffb115",
   "metadata": {},
   "outputs": [
    {
     "data": {
      "text/plain": [
       "{'c': None, 'd': None, 'b': None, 'a': None}"
      ]
     },
     "execution_count": 86,
     "metadata": {},
     "output_type": "execute_result"
    }
   ],
   "source": [
    "keys = {'a', 'b','c','d'}\n",
    "mydict3 = dict.fromkeys(keys)\n",
    "mydict3"
   ]
  },
  {
   "cell_type": "code",
   "execution_count": 90,
   "id": "2d3176e7-0cd3-44c1-a15f-8d9ee345e843",
   "metadata": {},
   "outputs": [
    {
     "data": {
      "text/plain": [
       "{'c': 10, 'd': 10, 'b': 10, 'a': 10}"
      ]
     },
     "execution_count": 90,
     "metadata": {},
     "output_type": "execute_result"
    }
   ],
   "source": [
    "keys = {'a', 'b', 'c' , 'd'}\n",
    "value = 10\n",
    "mydict4 = dict.fromkeys(keys , value)\n",
    "mydict4"
   ]
  },
  {
   "cell_type": "code",
   "execution_count": 95,
   "id": "5ad23cc1-5e81-4d0a-898c-0036dacbdbb3",
   "metadata": {},
   "outputs": [
    {
     "data": {
      "text/plain": [
       "{'c': [10, 20, 30], 'd': [10, 20, 30], 'b': [10, 20, 30], 'a': [10, 20, 30]}"
      ]
     },
     "execution_count": 95,
     "metadata": {},
     "output_type": "execute_result"
    }
   ],
   "source": [
    "keys = {'a' , 'b' , 'c' , 'd'}\n",
    "value = [10,20,30]\n",
    "mydict4 = dict.fromkeys(keys , value)\n",
    "mydict4"
   ]
  },
  {
   "cell_type": "code",
   "execution_count": 96,
   "id": "5c058816-33ca-465b-b266-61d80bcc6568",
   "metadata": {},
   "outputs": [
    {
     "data": {
      "text/plain": [
       "{'c': [10, 20, 30, 40],\n",
       " 'd': [10, 20, 30, 40],\n",
       " 'b': [10, 20, 30, 40],\n",
       " 'a': [10, 20, 30, 40]}"
      ]
     },
     "execution_count": 96,
     "metadata": {},
     "output_type": "execute_result"
    }
   ],
   "source": [
    "value.append(40)\n",
    "mydict4"
   ]
  },
  {
   "cell_type": "markdown",
   "id": "b58bfa4c-5c0d-48aa-b312-e8408a4ed832",
   "metadata": {},
   "source": [
    "Accessing Items\n"
   ]
  },
  {
   "cell_type": "code",
   "execution_count": 97,
   "id": "bc3b75ad-4223-4cc6-9129-28fcbe03dd3f",
   "metadata": {},
   "outputs": [
    {
     "data": {
      "text/plain": [
       "{1: 'one', 2: 'two', 3: 'three', 4: 'four'}"
      ]
     },
     "execution_count": 97,
     "metadata": {},
     "output_type": "execute_result"
    }
   ],
   "source": [
    "mydict = {1:'one' , 2:'two' , 3:'three' , 4:'four'}\n",
    "mydict"
   ]
  },
  {
   "cell_type": "code",
   "execution_count": 98,
   "id": "8c88afbd-d955-42f9-b1d5-5e3d8b852506",
   "metadata": {},
   "outputs": [
    {
     "data": {
      "text/plain": [
       "'one'"
      ]
     },
     "execution_count": 98,
     "metadata": {},
     "output_type": "execute_result"
    }
   ],
   "source": [
    "mydict[1]"
   ]
  },
  {
   "cell_type": "code",
   "execution_count": 99,
   "id": "3eddaf7a-93b0-4058-ac9d-8987dc68ff22",
   "metadata": {},
   "outputs": [
    {
     "data": {
      "text/plain": [
       "'one'"
      ]
     },
     "execution_count": 99,
     "metadata": {},
     "output_type": "execute_result"
    }
   ],
   "source": [
    "mydict.get(1)"
   ]
  },
  {
   "cell_type": "code",
   "execution_count": 100,
   "id": "88f2ca59-2e89-40cf-bc78-ac52783ddc50",
   "metadata": {},
   "outputs": [
    {
     "data": {
      "text/plain": [
       "{'Name': 'Indrajeet', 'ID': 123456, 'DOB': 2003, 'Job': 'Data-scientist'}"
      ]
     },
     "execution_count": 100,
     "metadata": {},
     "output_type": "execute_result"
    }
   ],
   "source": [
    "mydict6 = {'Name': 'Indrajeet' , 'ID': 123456 , 'DOB': 2003, 'Job': 'Data-scientist'}\n",
    "mydict6"
   ]
  },
  {
   "cell_type": "code",
   "execution_count": 101,
   "id": "a86e702f-e898-4398-9d92-fbc5f49bb618",
   "metadata": {},
   "outputs": [
    {
     "data": {
      "text/plain": [
       "'Indrajeet'"
      ]
     },
     "execution_count": 101,
     "metadata": {},
     "output_type": "execute_result"
    }
   ],
   "source": [
    "mydict6['Name']"
   ]
  },
  {
   "cell_type": "code",
   "execution_count": 103,
   "id": "690330c7-3421-49bd-b0b4-cb6385801e91",
   "metadata": {},
   "outputs": [
    {
     "data": {
      "text/plain": [
       "'Data-scientist'"
      ]
     },
     "execution_count": 103,
     "metadata": {},
     "output_type": "execute_result"
    }
   ],
   "source": [
    "mydict6.get('Job')"
   ]
  },
  {
   "cell_type": "markdown",
   "id": "0d66728f-9fb9-44c1-a4ee-96272336c0f6",
   "metadata": {},
   "source": [
    "Add, Remove & Change Items"
   ]
  },
  {
   "cell_type": "code",
   "execution_count": 107,
   "id": "5888fb02-a877-4af2-9951-0336a2cf4544",
   "metadata": {},
   "outputs": [
    {
     "data": {
      "text/plain": [
       "{'Name': 'Indrajeet', 'ID': 12345, 'Address': 'USA'}"
      ]
     },
     "execution_count": 107,
     "metadata": {},
     "output_type": "execute_result"
    }
   ],
   "source": [
    "mydict6 = {'Name':'Indrajeet','ID':12345, 'Address' :'USA'}\n",
    "mydict6"
   ]
  },
  {
   "cell_type": "code",
   "execution_count": 106,
   "id": "7446972e-d310-434d-bd9c-50e1af2e667f",
   "metadata": {},
   "outputs": [
    {
     "data": {
      "text/plain": [
       "{'Name': 'Indrajeet', 'ID': 12345, 'Address': 'Banglor', 'DOB': 2003}"
      ]
     },
     "execution_count": 106,
     "metadata": {},
     "output_type": "execute_result"
    }
   ],
   "source": [
    "mydict6['DOB']=2003\n",
    "mydict6['Address']='Banglor'\n",
    "mydict6"
   ]
  },
  {
   "cell_type": "code",
   "execution_count": 108,
   "id": "ebfb91a7-4018-4a21-9673-1950857dd434",
   "metadata": {},
   "outputs": [
    {
     "data": {
      "text/plain": [
       "{'Name': 'Indrajeet', 'ID': 12345, 'Address': 'USA', 'Job': 'CEO'}"
      ]
     },
     "execution_count": 108,
     "metadata": {},
     "output_type": "execute_result"
    }
   ],
   "source": [
    "mydict6['Job']= 'CEO'\n",
    "mydict6"
   ]
  },
  {
   "cell_type": "code",
   "execution_count": 109,
   "id": "19eb7b3c-164f-4739-b695-827c3a181b96",
   "metadata": {},
   "outputs": [
    {
     "data": {
      "text/plain": [
       "{'Name': 'Indrajeet', 'ID': 12345, 'Address': 'USA'}"
      ]
     },
     "execution_count": 109,
     "metadata": {},
     "output_type": "execute_result"
    }
   ],
   "source": [
    "mydict6.pop('Job')\n",
    "mydict6"
   ]
  },
  {
   "cell_type": "code",
   "execution_count": 110,
   "id": "ca5b1b12-6aa7-4a24-9aa5-8240026f4b32",
   "metadata": {},
   "outputs": [
    {
     "data": {
      "text/plain": [
       "('Address', 'USA')"
      ]
     },
     "execution_count": 110,
     "metadata": {},
     "output_type": "execute_result"
    }
   ],
   "source": [
    "mydict6.popitem()   #random item is removed"
   ]
  },
  {
   "cell_type": "code",
   "execution_count": 111,
   "id": "dd0e0a11-85b0-4dc1-aea2-8d234a4e06ba",
   "metadata": {},
   "outputs": [
    {
     "data": {
      "text/plain": [
       "{'Name': 'Indrajeet', 'ID': 12345}"
      ]
     },
     "execution_count": 111,
     "metadata": {},
     "output_type": "execute_result"
    }
   ],
   "source": [
    "mydict6"
   ]
  },
  {
   "cell_type": "code",
   "execution_count": 112,
   "id": "9f6cc0a0-726a-42a6-a742-9a931b639137",
   "metadata": {},
   "outputs": [
    {
     "data": {
      "text/plain": [
       "{'Name': 'Indrajeet'}"
      ]
     },
     "execution_count": 112,
     "metadata": {},
     "output_type": "execute_result"
    }
   ],
   "source": [
    "del[mydict6['ID']]\n",
    "mydict6"
   ]
  },
  {
   "cell_type": "code",
   "execution_count": 113,
   "id": "89cf9531-eccd-4144-bac7-8637d5497da6",
   "metadata": {},
   "outputs": [
    {
     "data": {
      "text/plain": [
       "{}"
      ]
     },
     "execution_count": 113,
     "metadata": {},
     "output_type": "execute_result"
    }
   ],
   "source": [
    "mydict6.clear()\n",
    "mydict6"
   ]
  },
  {
   "cell_type": "markdown",
   "id": "4c5cb5d2-089e-45a2-ad22-9acadc5e8c6c",
   "metadata": {},
   "source": [
    "Copy Dictionary"
   ]
  },
  {
   "cell_type": "code",
   "execution_count": 115,
   "id": "df4579d1-160d-4563-b92a-8a8d9c78caf0",
   "metadata": {},
   "outputs": [
    {
     "data": {
      "text/plain": [
       "{'Name': 'Indrajeet', 'ID': 12345, 'DOB': 2003, 'Address': 'USA'}"
      ]
     },
     "execution_count": 115,
     "metadata": {},
     "output_type": "execute_result"
    }
   ],
   "source": [
    "mydict = {'Name': 'Indrajeet', 'ID': 12345, 'DOB':2003, 'Address' : 'USA'}\n",
    "mydict"
   ]
  },
  {
   "cell_type": "code",
   "execution_count": 116,
   "id": "98f4f3b5-36bf-4a7a-b982-bbe91fa6c712",
   "metadata": {},
   "outputs": [],
   "source": [
    "mydict7 = mydict"
   ]
  },
  {
   "cell_type": "code",
   "execution_count": 117,
   "id": "6dc3564a-1add-4adc-913c-07e95ff60ec6",
   "metadata": {},
   "outputs": [
    {
     "data": {
      "text/plain": [
       "(2317062069824, 2317062069824)"
      ]
     },
     "execution_count": 117,
     "metadata": {},
     "output_type": "execute_result"
    }
   ],
   "source": [
    "id(mydict), id(mydict7)"
   ]
  },
  {
   "cell_type": "code",
   "execution_count": 118,
   "id": "6b1e7009-b427-454a-92af-5a47356deb62",
   "metadata": {},
   "outputs": [],
   "source": [
    "mydict2 = mydict.copy()"
   ]
  },
  {
   "cell_type": "code",
   "execution_count": 119,
   "id": "6cbecdcc-ccff-4899-9ca5-aab2693b9f91",
   "metadata": {},
   "outputs": [
    {
     "data": {
      "text/plain": [
       "2317062072640"
      ]
     },
     "execution_count": 119,
     "metadata": {},
     "output_type": "execute_result"
    }
   ],
   "source": [
    "id(mydict2)"
   ]
  },
  {
   "cell_type": "code",
   "execution_count": 120,
   "id": "f6f10557-ea0f-4e28-8dc5-f840984747c0",
   "metadata": {},
   "outputs": [],
   "source": [
    "mydict['Address']='Bombay'"
   ]
  },
  {
   "cell_type": "code",
   "execution_count": 121,
   "id": "ca1d4135-7ca7-43be-b317-c76f46c04671",
   "metadata": {},
   "outputs": [
    {
     "data": {
      "text/plain": [
       "{'Name': 'Indrajeet', 'ID': 12345, 'DOB': 2003, 'Address': 'Bombay'}"
      ]
     },
     "execution_count": 121,
     "metadata": {},
     "output_type": "execute_result"
    }
   ],
   "source": [
    "mydict"
   ]
  },
  {
   "cell_type": "code",
   "execution_count": 122,
   "id": "26d82731-f59e-4e86-aa6c-c128325a7fc4",
   "metadata": {},
   "outputs": [
    {
     "data": {
      "text/plain": [
       "{'Name': 'Indrajeet', 'ID': 12345, 'DOB': 2003, 'Address': 'Bombay'}"
      ]
     },
     "execution_count": 122,
     "metadata": {},
     "output_type": "execute_result"
    }
   ],
   "source": [
    "mydict7"
   ]
  },
  {
   "cell_type": "code",
   "execution_count": 123,
   "id": "44eddc70-0343-4e6c-9176-8d18ed141808",
   "metadata": {},
   "outputs": [
    {
     "data": {
      "text/plain": [
       "{'Name': 'Indrajeet', 'ID': 12345, 'DOB': 2003, 'Address': 'USA'}"
      ]
     },
     "execution_count": 123,
     "metadata": {},
     "output_type": "execute_result"
    }
   ],
   "source": [
    "mydict2"
   ]
  },
  {
   "cell_type": "code",
   "execution_count": 126,
   "id": "d67fda38-4046-48b6-9952-19fdb9b49cac",
   "metadata": {},
   "outputs": [
    {
     "data": {
      "text/plain": [
       "{'Name': 'Indrajeet', 'ID': 12345, 'Address': 'USA'}"
      ]
     },
     "execution_count": 126,
     "metadata": {},
     "output_type": "execute_result"
    }
   ],
   "source": [
    "mydict1 = {'Name': 'Indrajeet', 'ID': 12345, 'Address' :'USA'}\n",
    "mydict1"
   ]
  },
  {
   "cell_type": "markdown",
   "id": "20ce5460-624a-4fe9-af3a-20c5363bf138",
   "metadata": {},
   "source": [
    "Looping Through a Dictionary"
   ]
  },
  {
   "cell_type": "code",
   "execution_count": 127,
   "id": "ab567060-5f9b-4017-a6a0-db195f9662ad",
   "metadata": {},
   "outputs": [
    {
     "data": {
      "text/plain": [
       "{'Name': 'Indrajeet', 'ID': 567890, 'DOB': 2003, 'Address': 'usa'}"
      ]
     },
     "execution_count": 127,
     "metadata": {},
     "output_type": "execute_result"
    }
   ],
   "source": [
    "mydict1 ={'Name':'Indrajeet', 'ID': 567890, 'DOB' : 2003 , 'Address' : 'usa'}\n",
    "mydict1"
   ]
  },
  {
   "cell_type": "code",
   "execution_count": 129,
   "id": "7e541fa9-9e41-46eb-941d-edcbf24e79a6",
   "metadata": {},
   "outputs": [
    {
     "name": "stdout",
     "output_type": "stream",
     "text": [
      "Name : Indrajeet\n",
      "ID : 567890\n",
      "DOB : 2003\n",
      "Address : usa\n"
     ]
    }
   ],
   "source": [
    "for i in mydict1:\n",
    "    print(i,':',mydict1[i])"
   ]
  },
  {
   "cell_type": "code",
   "execution_count": 131,
   "id": "2dc24bf9-1460-4949-a07c-393b92cbfcaf",
   "metadata": {},
   "outputs": [
    {
     "name": "stdout",
     "output_type": "stream",
     "text": [
      "Indrajeet\n",
      "567890\n",
      "2003\n",
      "usa\n"
     ]
    }
   ],
   "source": [
    "for i in mydict1:\n",
    "    print(mydict1[i])"
   ]
  },
  {
   "cell_type": "markdown",
   "id": "2f823bde-6bbf-400c-b07f-c9fe4408f256",
   "metadata": {},
   "source": [
    "Dictionary Membership"
   ]
  },
  {
   "cell_type": "code",
   "execution_count": 132,
   "id": "3e022bdb-fb6c-4efe-972f-226accedcc1f",
   "metadata": {},
   "outputs": [
    {
     "data": {
      "text/plain": [
       "{'Name': 'Indrajeet', 'ID': 123456, 'DOB': 2003, 'Job': 'Data scientist'}"
      ]
     },
     "execution_count": 132,
     "metadata": {},
     "output_type": "execute_result"
    }
   ],
   "source": [
    "mydict1 = {'Name': 'Indrajeet', 'ID': 123456, 'DOB':2003, 'Job':'Data scientist'}\n",
    "mydict1"
   ]
  },
  {
   "cell_type": "code",
   "execution_count": 133,
   "id": "1cdc0423-07c6-42a6-8687-1682645a9e13",
   "metadata": {},
   "outputs": [
    {
     "data": {
      "text/plain": [
       "True"
      ]
     },
     "execution_count": 133,
     "metadata": {},
     "output_type": "execute_result"
    }
   ],
   "source": [
    "'Name' in mydict1"
   ]
  },
  {
   "cell_type": "code",
   "execution_count": 134,
   "id": "d2e78dcf-9203-4070-92ee-fe9797559718",
   "metadata": {},
   "outputs": [
    {
     "data": {
      "text/plain": [
       "False"
      ]
     },
     "execution_count": 134,
     "metadata": {},
     "output_type": "execute_result"
    }
   ],
   "source": [
    "'Indrajeet' in mydict1"
   ]
  },
  {
   "cell_type": "code",
   "execution_count": 135,
   "id": "93b34f05-39ea-4c06-8d70-fae402003a90",
   "metadata": {},
   "outputs": [
    {
     "data": {
      "text/plain": [
       "True"
      ]
     },
     "execution_count": 135,
     "metadata": {},
     "output_type": "execute_result"
    }
   ],
   "source": [
    "'ID' in mydict1"
   ]
  },
  {
   "cell_type": "code",
   "execution_count": 136,
   "id": "de3c8397-81ff-4632-9604-278214774979",
   "metadata": {},
   "outputs": [
    {
     "data": {
      "text/plain": [
       "False"
      ]
     },
     "execution_count": 136,
     "metadata": {},
     "output_type": "execute_result"
    }
   ],
   "source": [
    "'Address' in mydict1"
   ]
  },
  {
   "cell_type": "code",
   "execution_count": 137,
   "id": "f08c2f52-e315-477a-bba3-752c7f8e20d5",
   "metadata": {},
   "outputs": [
    {
     "data": {
      "text/plain": [
       "{'Name': 'Indrajeet', 'ID': 12345678, 'DOB': 2003, 'JOB': 'Data scientist'}"
      ]
     },
     "execution_count": 137,
     "metadata": {},
     "output_type": "execute_result"
    }
   ],
   "source": [
    "mydict1 = {'Name':'Indrajeet','ID':12345678,'DOB':2003, 'JOB': 'Data scientist'}\n",
    "mydict1"
   ]
  },
  {
   "cell_type": "code",
   "execution_count": 138,
   "id": "3b1013d6-5276-4e4b-9dd6-a841314d15b3",
   "metadata": {},
   "outputs": [
    {
     "data": {
      "text/plain": [
       "True"
      ]
     },
     "execution_count": 138,
     "metadata": {},
     "output_type": "execute_result"
    }
   ],
   "source": [
    "all(mydict1)"
   ]
  },
  {
   "cell_type": "code",
   "execution_count": null,
   "id": "811ca602-6bcd-41a7-b716-e9b816d09be7",
   "metadata": {},
   "outputs": [],
   "source": [
    "0"
   ]
  }
 ],
 "metadata": {
  "kernelspec": {
   "display_name": "Python [conda env:base] *",
   "language": "python",
   "name": "conda-base-py"
  },
  "language_info": {
   "codemirror_mode": {
    "name": "ipython",
    "version": 3
   },
   "file_extension": ".py",
   "mimetype": "text/x-python",
   "name": "python",
   "nbconvert_exporter": "python",
   "pygments_lexer": "ipython3",
   "version": "3.12.7"
  }
 },
 "nbformat": 4,
 "nbformat_minor": 5
}
