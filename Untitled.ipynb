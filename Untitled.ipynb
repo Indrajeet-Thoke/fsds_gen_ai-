{
 "cells": [
  {
   "cell_type": "code",
   "execution_count": 1,
   "id": "a14b915a-08fb-41ff-9191-495ea21723ea",
   "metadata": {},
   "outputs": [
    {
     "data": {
      "text/plain": [
       "int"
      ]
     },
     "execution_count": 1,
     "metadata": {},
     "output_type": "execute_result"
    }
   ],
   "source": [
    "a =(31)\n",
    "type(a)"
   ]
  },
  {
   "cell_type": "code",
   "execution_count": 2,
   "id": "141d6d9f-18fc-4a70-beae-a1cd70c06d45",
   "metadata": {},
   "outputs": [
    {
     "data": {
      "text/plain": [
       "140712214998392"
      ]
     },
     "execution_count": 2,
     "metadata": {},
     "output_type": "execute_result"
    }
   ],
   "source": [
    "id(a)"
   ]
  },
  {
   "cell_type": "code",
   "execution_count": 3,
   "id": "43287e36-92ad-4e82-a337-10fa6173f9d4",
   "metadata": {},
   "outputs": [
    {
     "data": {
      "text/plain": [
       "'31'"
      ]
     },
     "execution_count": 3,
     "metadata": {},
     "output_type": "execute_result"
    }
   ],
   "source": [
    "str(31)"
   ]
  },
  {
   "cell_type": "code",
   "execution_count": 4,
   "id": "a183b3ac-399e-407b-9bf8-de62826005e2",
   "metadata": {},
   "outputs": [
    {
     "name": "stdin",
     "output_type": "stream",
     "text": [
      "Enter first number:  12\n",
      "Enter second number:  12\n"
     ]
    },
    {
     "name": "stdout",
     "output_type": "stream",
     "text": [
      "The sum is: 24.0\n"
     ]
    }
   ],
   "source": [
    "num1 = float(input(\"Enter first number: \"))\n",
    "num2 = float(input(\"Enter second number: \"))\n",
    "sum = num1 + num2\n",
    "print(\"The sum is:\", sum)"
   ]
  },
  {
   "cell_type": "code",
   "execution_count": 6,
   "id": "4bb714f9-fc35-487b-9624-0e1a960f02e8",
   "metadata": {},
   "outputs": [
    {
     "name": "stdin",
     "output_type": "stream",
     "text": [
      "enter any length 12\n",
      "enter any bridth 12\n"
     ]
    },
    {
     "name": "stdout",
     "output_type": "stream",
     "text": [
      "area of rectangle is : 144.0\n"
     ]
    }
   ],
   "source": [
    "l = float(input(\"enter any length\"))\n",
    "b= float(input(\"enter any bridth\"))\n",
    "area= l * b\n",
    "print(\"area of rectangle is :\", area)"
   ]
  },
  {
   "cell_type": "code",
   "execution_count": null,
   "id": "2a95476d-6e44-4053-8d72-78eb98ebf36d",
   "metadata": {},
   "outputs": [],
   "source": []
  }
 ],
 "metadata": {
  "kernelspec": {
   "display_name": "Python [conda env:base] *",
   "language": "python",
   "name": "conda-base-py"
  },
  "language_info": {
   "codemirror_mode": {
    "name": "ipython",
    "version": 3
   },
   "file_extension": ".py",
   "mimetype": "text/x-python",
   "name": "python",
   "nbconvert_exporter": "python",
   "pygments_lexer": "ipython3",
   "version": "3.12.7"
  }
 },
 "nbformat": 4,
 "nbformat_minor": 5
}
