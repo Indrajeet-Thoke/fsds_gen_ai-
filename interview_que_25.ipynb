{
 "cells": [
  {
   "cell_type": "code",
   "execution_count": 1,
   "id": "f5d8bb00-8dc0-4cd9-8feb-e23705af8fd1",
   "metadata": {},
   "outputs": [
    {
     "name": "stdin",
     "output_type": "stream",
     "text": [
      "enter a string : Indrajeet\n",
      "Enter a character to count : e\n"
     ]
    },
    {
     "name": "stdout",
     "output_type": "stream",
     "text": [
      "occurance of e: 2\n"
     ]
    }
   ],
   "source": [
    "text = input(\"enter a string :\")\n",
    "char = input(\"Enter a character to count :\")\n",
    "print(f\"occurance of {char}: {text.count(char)}\")"
   ]
  },
  {
   "cell_type": "code",
   "execution_count": 4,
   "id": "65aa93f5-bb4a-448f-9412-711e785cbc99",
   "metadata": {},
   "outputs": [
    {
     "name": "stdin",
     "output_type": "stream",
     "text": [
      "enter any string : MY NAME IS INDRAJEET THOKE I'M FROM AKOLA MAHARASHTRA\n"
     ]
    },
    {
     "name": "stdout",
     "output_type": "stream",
     "text": [
      "my name is indrajeet thoke i'm from akola maharashtra\n"
     ]
    }
   ],
   "source": [
    "a = input(\"enter any string :\")\n",
    "print(a.lower())"
   ]
  },
  {
   "cell_type": "code",
   "execution_count": 9,
   "id": "b00f19cb-52af-47a3-8e35-41901fd1f1c3",
   "metadata": {},
   "outputs": [
    {
     "name": "stdin",
     "output_type": "stream",
     "text": [
      "enter any number : 100\n"
     ]
    },
    {
     "name": "stdout",
     "output_type": "stream",
     "text": [
      "Number is not multiple of 10\n"
     ]
    }
   ],
   "source": [
    "num = int(input(\"enter any number :\"))\n",
    "if num % 10 == 10:\n",
    "    print(\"Number is multiple of 10\")\n",
    "else:\n",
    "    print(\"Number is not multiple of 10\")"
   ]
  },
  {
   "cell_type": "code",
   "execution_count": 12,
   "id": "317525d0-3709-481a-acf5-161fe50468e1",
   "metadata": {},
   "outputs": [
    {
     "name": "stdin",
     "output_type": "stream",
     "text": [
      "Enter a string indrajeetthoke\n"
     ]
    },
    {
     "name": "stdout",
     "output_type": "stream",
     "text": [
      "Only Alphabets\n"
     ]
    }
   ],
   "source": [
    "user_input = input(\"Enter a string\")\n",
    "if user_input.isalpha():\n",
    "    print(\"Only Alphabets\")\n",
    "else:\n",
    "    print(\"Contain non Alphabets character\")"
   ]
  },
  {
   "cell_type": "code",
   "execution_count": 19,
   "id": "c6b48b46-770a-4620-b4be-e77f7b0a0cf4",
   "metadata": {},
   "outputs": [
    {
     "name": "stdin",
     "output_type": "stream",
     "text": [
      "Enter a string indrajeet jagdish thoke\n"
     ]
    },
    {
     "name": "stdout",
     "output_type": "stream",
     "text": [
      "3\n"
     ]
    }
   ],
   "source": [
    "b = input(\"Enter a string\")\n",
    "print(len(b.split()))"
   ]
  },
  {
   "cell_type": "code",
   "execution_count": 24,
   "id": "1f94008f-3379-432c-9c7f-31bf69a3a8e6",
   "metadata": {},
   "outputs": [
    {
     "name": "stdin",
     "output_type": "stream",
     "text": [
      "Enter a date (DD MM YYYY):  13 10 2003\n"
     ]
    },
    {
     "name": "stdout",
     "output_type": "stream",
     "text": [
      "Entered date: 2003-10-13 00:00:00\n"
     ]
    }
   ],
   "source": [
    "from datetime import datetime\n",
    "date_str = input(\"Enter a date (DD MM YYYY): \")\n",
    "date = datetime.strptime(date_str, \"%d %m %Y\")\n",
    "print(\"Entered date:\", date)\n"
   ]
  },
  {
   "cell_type": "code",
   "execution_count": 25,
   "id": "19863d22-c88e-47e1-bf95-f5e1af1c5079",
   "metadata": {},
   "outputs": [
    {
     "name": "stdin",
     "output_type": "stream",
     "text": [
      "Enter any Number 15\n"
     ]
    },
    {
     "name": "stdout",
     "output_type": "stream",
     "text": [
      "Divisible by both 3 and 5\n"
     ]
    }
   ],
   "source": [
    "c = int(input(\"Enter any Number\"))\n",
    "if c % 3 == 0 and c % 5 == 0:\n",
    "    print(\"Divisible by both 3 and 5\")\n",
    "else:\n",
    "    print(\"Not divisible by both 3 and 5\")"
   ]
  },
  {
   "cell_type": "code",
   "execution_count": 30,
   "id": "ad52ae14-67ec-4f83-87a1-be8e5fbbf62d",
   "metadata": {},
   "outputs": [
    {
     "name": "stdin",
     "output_type": "stream",
     "text": [
      "Enter a first value 12\n",
      "Enter a secound value 13\n"
     ]
    },
    {
     "name": "stdout",
     "output_type": "stream",
     "text": [
      "swapped values: x1=13, y112\n"
     ]
    }
   ],
   "source": [
    "x1 = input(\"Enter a first value\")\n",
    "y1 = input(\"Enter a secound value\")\n",
    "x1,y1 = y1,x1\n",
    "print(f\"swapped values: x1={x1}, y1{y1}\")"
   ]
  },
  {
   "cell_type": "code",
   "execution_count": 33,
   "id": "0b1e0b93-5447-41bb-9b59-f9b91cdd01b6",
   "metadata": {},
   "outputs": [
    {
     "name": "stdin",
     "output_type": "stream",
     "text": [
      "Enter a string : MY NAME IS INDRAJEET JAGDISH THOKE AND I AM FROM AKOLA MAHARASHTRA\n"
     ]
    },
    {
     "name": "stdout",
     "output_type": "stream",
     "text": [
      "MYNAMEISINDRAJEETJAGDISHTHOKEANDIAMFROMAKOLAMAHARASHTRA\n"
     ]
    }
   ],
   "source": [
    "user_input1 = input(\"Enter a string :\")\n",
    "print(user_input1.replace(\" \",\"\"))"
   ]
  },
  {
   "cell_type": "code",
   "execution_count": 37,
   "id": "1ff18000-e7d5-4826-83e1-97a1bc87c64f",
   "metadata": {},
   "outputs": [
    {
     "name": "stdin",
     "output_type": "stream",
     "text": [
      "Enter email : ijthoke2021@gmail.com\n"
     ]
    },
    {
     "name": "stdout",
     "output_type": "stream",
     "text": [
      "valid email\n"
     ]
    }
   ],
   "source": [
    "import re\n",
    "email = input(\"Enter email :\")\n",
    "if re.match(r\"[^@]+@[^@]+\\.[^@]+\",email):\n",
    "    print(\"valid email\")\n",
    "else:\n",
    "    print(\"invalid email\")"
   ]
  },
  {
   "cell_type": "code",
   "execution_count": 39,
   "id": "d655da10-9a3b-4393-b846-a2dede701314",
   "metadata": {},
   "outputs": [
    {
     "name": "stdin",
     "output_type": "stream",
     "text": [
      "Enter any number : 2\n"
     ]
    },
    {
     "name": "stdout",
     "output_type": "stream",
     "text": [
      "cube: 8\n"
     ]
    }
   ],
   "source": [
    "num1 = int(input(\"Enter any number :\"))\n",
    "print(\"cube:\", num1**3)"
   ]
  },
  {
   "cell_type": "code",
   "execution_count": 42,
   "id": "73cfa826-3451-4781-92b1-22a24757916f",
   "metadata": {},
   "outputs": [
    {
     "name": "stdin",
     "output_type": "stream",
     "text": [
      "Enter a name seprated by comma  INDRAJEET RAJ SHANTANU\n"
     ]
    },
    {
     "name": "stdout",
     "output_type": "stream",
     "text": [
      "names ['INDRAJEET RAJ SHANTANU']\n"
     ]
    }
   ],
   "source": [
    "names = input(\"Enter a name seprated by comma \").split(\",\")\n",
    "print(\"names\",names)"
   ]
  },
  {
   "cell_type": "code",
   "execution_count": 45,
   "id": "66129277-58f5-4626-bafc-66ee9594f5e4",
   "metadata": {},
   "outputs": [
    {
     "name": "stdin",
     "output_type": "stream",
     "text": [
      "Enter a string : MY NAME IS INDRAJEET THOKE AND I HAVE A 2 DOGS AND 2 CATS\n"
     ]
    },
    {
     "name": "stdout",
     "output_type": "stream",
     "text": [
      "Extracted numbers : ['2', '2']\n"
     ]
    }
   ],
   "source": [
    "import re\n",
    "text1 = input(\"Enter a string :\")\n",
    "numbers = re.findall(r'\\d+',text1)\n",
    "print(\"Extracted numbers :\", numbers)"
   ]
  },
  {
   "cell_type": "code",
   "execution_count": 53,
   "id": "6150614e-f003-49a2-b158-7ea3cec1001f",
   "metadata": {},
   "outputs": [
    {
     "name": "stdin",
     "output_type": "stream",
     "text": [
      "Enter numbers separated by spaces : 10 30 1000\n"
     ]
    },
    {
     "name": "stdout",
     "output_type": "stream",
     "text": [
      "maximum number : 1000\n"
     ]
    }
   ],
   "source": [
    "numbers = list(map(int,input(\"Enter numbers separated by spaces :\").split()))\n",
    "print(\"maximum number :\",max(numbers))"
   ]
  },
  {
   "cell_type": "code",
   "execution_count": 56,
   "id": "52567e9c-2e9f-4d3b-92b6-09ef4715ad0c",
   "metadata": {},
   "outputs": [
    {
     "name": "stdin",
     "output_type": "stream",
     "text": [
      "Enter a valid number 12345666\n"
     ]
    }
   ],
   "source": [
    "while True:\n",
    "    try:\n",
    "        num = int(input(\"Enter a valid number\"))\n",
    "        break\n",
    "    except valueError :\n",
    "        print(\"Invalid input,please enter a number.\")"
   ]
  },
  {
   "cell_type": "code",
   "execution_count": 57,
   "id": "e7481e05-efef-41c3-8a8c-2a1fab63ee7b",
   "metadata": {},
   "outputs": [
    {
     "name": "stdin",
     "output_type": "stream",
     "text": [
      "Enter a string : indrajeet13\n"
     ]
    },
    {
     "name": "stdout",
     "output_type": "stream",
     "text": [
      "Contains digits\n"
     ]
    }
   ],
   "source": [
    "user_input3 = input(\"Enter a string :\")\n",
    "if any (char.isdigit()for char in user_input3):\n",
    "    print(\"Contains digits\")\n",
    "else:\n",
    "    print(\"No digits\")"
   ]
  },
  {
   "cell_type": "code",
   "execution_count": 58,
   "id": "2577e51a-aaff-41ed-bb81-ccce65ff18c5",
   "metadata": {},
   "outputs": [
    {
     "name": "stdin",
     "output_type": "stream",
     "text": [
      "Enter a string : Indrajeet thoke\n"
     ]
    },
    {
     "name": "stdout",
     "output_type": "stream",
     "text": [
      "contain non-whitespace characters\n"
     ]
    }
   ],
   "source": [
    "user_input5 = input (\"Enter a string :\")\n",
    "if user_input5.isspace():\n",
    "    print(\"only white space\")\n",
    "else:\n",
    "    print(\"contain non-whitespace characters\")"
   ]
  },
  {
   "cell_type": "code",
   "execution_count": 61,
   "id": "a9116923-1c47-4756-b92e-6a8c5b50e590",
   "metadata": {},
   "outputs": [
    {
     "name": "stdin",
     "output_type": "stream",
     "text": [
      "Enter a string:  abc123xyx11\n"
     ]
    },
    {
     "name": "stdout",
     "output_type": "stream",
     "text": [
      "Sum of digits: 8\n"
     ]
    }
   ],
   "source": [
    "text22 = input(\"Enter a string: \")\n",
    "digit_sum = sum(int(digit) for digit in text22 if digit.isdigit())\n",
    "print(\"Sum of digits:\", digit_sum)\n"
   ]
  },
  {
   "cell_type": "code",
   "execution_count": 64,
   "id": "f84bce89-8255-4f31-a8a6-bb3aba25ddb7",
   "metadata": {},
   "outputs": [
    {
     "name": "stdin",
     "output_type": "stream",
     "text": [
      "Enter a number : 44\n"
     ]
    },
    {
     "name": "stdout",
     "output_type": "stream",
     "text": [
      "Absolute value : 44\n"
     ]
    }
   ],
   "source": [
    "num44 = int(input(\"Enter a number :\"))\n",
    "print(\"Absolute value :\",abs(num44))"
   ]
  },
  {
   "cell_type": "code",
   "execution_count": 66,
   "id": "ac28e3ad-1567-412f-8577-9a36551581d4",
   "metadata": {},
   "outputs": [
    {
     "name": "stdin",
     "output_type": "stream",
     "text": [
      "Enter a string : Indrajeet\n"
     ]
    },
    {
     "name": "stdout",
     "output_type": "stream",
     "text": [
      "contains uppercase letters\n"
     ]
    }
   ],
   "source": [
    "user_input00 = input(\"Enter a string :\")\n",
    "if any (char.isupper() for char in user_input00):\n",
    "    print(\"contains uppercase letters\")\n",
    "else:\n",
    "    print(\"No Uppercase letters\")"
   ]
  },
  {
   "cell_type": "code",
   "execution_count": 67,
   "id": "2f36b308-f01b-4cf3-a68c-5bacf1f84475",
   "metadata": {},
   "outputs": [
    {
     "name": "stdin",
     "output_type": "stream",
     "text": [
      "Enter temperature in celsius : 23\n"
     ]
    },
    {
     "name": "stdout",
     "output_type": "stream",
     "text": [
      "Temperature in fahrenheit :73.4\n"
     ]
    }
   ],
   "source": [
    "celsius = float(input(\"Enter temperature in celsius :\"))\n",
    "fahrenheit = (celsius * 9/5)+32\n",
    "print(f\"Temperature in fahrenheit :{fahrenheit}\")"
   ]
  },
  {
   "cell_type": "code",
   "execution_count": 68,
   "id": "c66865e0-5da8-421b-8010-69d05ceb5065",
   "metadata": {},
   "outputs": [
    {
     "name": "stdin",
     "output_type": "stream",
     "text": [
      "Enter a number separated by space : 23 23 4\n"
     ]
    },
    {
     "name": "stdout",
     "output_type": "stream",
     "text": [
      "Average: 16.666666666666668\n"
     ]
    }
   ],
   "source": [
    "numbers11 = list(map(int,input(\"Enter a number separated by space :\").split()))\n",
    "print(\"Average:\", sum(numbers11)/ len(numbers11))"
   ]
  },
  {
   "cell_type": "code",
   "execution_count": 69,
   "id": "7641a951-7466-4a64-abc1-8c37e61b18c0",
   "metadata": {},
   "outputs": [
    {
     "name": "stdin",
     "output_type": "stream",
     "text": [
      "Enter a string abcdeh\n"
     ]
    },
    {
     "name": "stdout",
     "output_type": "stream",
     "text": [
      "numbers of consonants : 5\n"
     ]
    }
   ],
   "source": [
    "text11 = input(\"Enter a string\")\n",
    "consonants =\"bcdfghjklmnpqrstvwxyz\"\n",
    "count = sum(1 for char in text .lower() if char in  consonants)\n",
    "print(\"numbers of consonants :\", count)"
   ]
  },
  {
   "cell_type": "code",
   "execution_count": 70,
   "id": "ca06dfb5-6ae5-45a9-8775-5640972faadf",
   "metadata": {},
   "outputs": [
    {
     "name": "stdin",
     "output_type": "stream",
     "text": [
      "enter a string : indrajeet\n"
     ]
    },
    {
     "name": "stdout",
     "output_type": "stream",
     "text": [
      "No punction\n"
     ]
    }
   ],
   "source": [
    "import string \n",
    "text11 = input(\"enter a string :\")\n",
    "if any(char in string .punctuation for char in text) :\n",
    "    print(\"contains punction\")\n",
    "else:\n",
    "    print(\"No punction\")"
   ]
  },
  {
   "cell_type": "code",
   "execution_count": 71,
   "id": "23921435-f74b-4aa9-851e-05256a56d0c4",
   "metadata": {},
   "outputs": [
    {
     "name": "stdin",
     "output_type": "stream",
     "text": [
      "Enter a sentense : My Name Is Indrajeet Thoke\n"
     ]
    },
    {
     "name": "stdout",
     "output_type": "stream",
     "text": [
      "longest word : Indrajeet\n"
     ]
    }
   ],
   "source": [
    "text55 = input(\"Enter a sentense :\")\n",
    "words = text55.split()\n",
    "longest_word = max(words, key=len)\n",
    "print(\"longest word :\", longest_word)"
   ]
  },
  {
   "cell_type": "code",
   "execution_count": null,
   "id": "c64dd6c9-cef5-4e0f-adcb-5cbf8d4d4d2e",
   "metadata": {},
   "outputs": [],
   "source": []
  }
 ],
 "metadata": {
  "kernelspec": {
   "display_name": "Python [conda env:base] *",
   "language": "python",
   "name": "conda-base-py"
  },
  "language_info": {
   "codemirror_mode": {
    "name": "ipython",
    "version": 3
   },
   "file_extension": ".py",
   "mimetype": "text/x-python",
   "name": "python",
   "nbconvert_exporter": "python",
   "pygments_lexer": "ipython3",
   "version": "3.12.7"
  }
 },
 "nbformat": 4,
 "nbformat_minor": 5
}
