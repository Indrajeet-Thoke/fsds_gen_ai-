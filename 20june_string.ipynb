{
 "cells": [
  {
   "cell_type": "code",
   "execution_count": 1,
   "id": "6a1f223a-fb1d-48cf-b80c-cd55d4f461cb",
   "metadata": {},
   "outputs": [],
   "source": [
    "p=20\n",
    "q=30\n",
    "r=30"
   ]
  },
  {
   "cell_type": "code",
   "execution_count": 2,
   "id": "8f2c2698-b688-4e3f-9505-9cbe31c17d59",
   "metadata": {},
   "outputs": [],
   "source": [
    "p=q=r=20"
   ]
  },
  {
   "cell_type": "code",
   "execution_count": 7,
   "id": "6b12a0c3-427c-4b9a-a7df-a49d298927be",
   "metadata": {},
   "outputs": [
    {
     "name": "stdout",
     "output_type": "stream",
     "text": [
      "hello world\n"
     ]
    }
   ],
   "source": [
    "s='hello world'\n",
    "print(s)\n"
   ]
  },
  {
   "cell_type": "code",
   "execution_count": 8,
   "id": "b8e09d22-835e-4586-83e2-e9adbf2bf3e7",
   "metadata": {},
   "outputs": [
    {
     "data": {
      "text/plain": [
       "11"
      ]
     },
     "execution_count": 8,
     "metadata": {},
     "output_type": "execute_result"
    }
   ],
   "source": [
    "len(s)"
   ]
  },
  {
   "cell_type": "code",
   "execution_count": 9,
   "id": "438d7057-c22c-4b29-aaac-4d2b8e4d21bd",
   "metadata": {},
   "outputs": [
    {
     "data": {
      "text/plain": [
       "'h'"
      ]
     },
     "execution_count": 9,
     "metadata": {},
     "output_type": "execute_result"
    }
   ],
   "source": [
    "s[0]"
   ]
  },
  {
   "cell_type": "code",
   "execution_count": 10,
   "id": "55bd48df-21ab-4954-9515-5314fbf7e7c1",
   "metadata": {},
   "outputs": [
    {
     "data": {
      "text/plain": [
       "'o'"
      ]
     },
     "execution_count": 10,
     "metadata": {},
     "output_type": "execute_result"
    }
   ],
   "source": [
    "s[4]"
   ]
  },
  {
   "cell_type": "code",
   "execution_count": 11,
   "id": "d21558d1-833b-40e4-812b-312ffaf74b02",
   "metadata": {},
   "outputs": [
    {
     "data": {
      "text/plain": [
       "'o'"
      ]
     },
     "execution_count": 11,
     "metadata": {},
     "output_type": "execute_result"
    }
   ],
   "source": [
    "s[7]"
   ]
  },
  {
   "cell_type": "code",
   "execution_count": 12,
   "id": "d8ca7800-00b5-4801-a3fa-183ef24c97ee",
   "metadata": {},
   "outputs": [
    {
     "data": {
      "text/plain": [
       "'e'"
      ]
     },
     "execution_count": 12,
     "metadata": {},
     "output_type": "execute_result"
    }
   ],
   "source": [
    "s[-10]"
   ]
  },
  {
   "cell_type": "code",
   "execution_count": 13,
   "id": "f9eb7a11-aa9d-48ad-9ab1-d3648771eb4c",
   "metadata": {},
   "outputs": [
    {
     "data": {
      "text/plain": [
       "'w'"
      ]
     },
     "execution_count": 13,
     "metadata": {},
     "output_type": "execute_result"
    }
   ],
   "source": [
    "s[-5]"
   ]
  },
  {
   "cell_type": "code",
   "execution_count": 14,
   "id": "a59e5c27-d5d0-4a52-85e5-97c485b57bc3",
   "metadata": {},
   "outputs": [
    {
     "data": {
      "text/plain": [
       "'worl'"
      ]
     },
     "execution_count": 14,
     "metadata": {},
     "output_type": "execute_result"
    }
   ],
   "source": [
    "s[6 : 10]"
   ]
  },
  {
   "cell_type": "code",
   "execution_count": 15,
   "id": "ba92ba2c-b65b-443b-858f-1055b2b5d76b",
   "metadata": {},
   "outputs": [
    {
     "data": {
      "text/plain": [
       "''"
      ]
     },
     "execution_count": 15,
     "metadata": {},
     "output_type": "execute_result"
    }
   ],
   "source": [
    "s[5 : 3]"
   ]
  },
  {
   "cell_type": "code",
   "execution_count": 16,
   "id": "f652f35b-4eed-4275-92cd-e5a18bcff69b",
   "metadata": {},
   "outputs": [
    {
     "data": {
      "text/plain": [
       "'ello'"
      ]
     },
     "execution_count": 16,
     "metadata": {},
     "output_type": "execute_result"
    }
   ],
   "source": [
    "s[1 : 5]"
   ]
  },
  {
   "cell_type": "code",
   "execution_count": 17,
   "id": "57d08080-52ce-4acc-add1-51630732f471",
   "metadata": {},
   "outputs": [
    {
     "data": {
      "text/plain": [
       "'lo'"
      ]
     },
     "execution_count": 17,
     "metadata": {},
     "output_type": "execute_result"
    }
   ],
   "source": [
    "s[3 : 5]"
   ]
  },
  {
   "cell_type": "code",
   "execution_count": 18,
   "id": "6d147018-2414-4aa7-9e3f-bdbc98c2eb28",
   "metadata": {},
   "outputs": [
    {
     "data": {
      "text/plain": [
       "'llo w'"
      ]
     },
     "execution_count": 18,
     "metadata": {},
     "output_type": "execute_result"
    }
   ],
   "source": [
    "s[2 : 7]"
   ]
  },
  {
   "cell_type": "code",
   "execution_count": 19,
   "id": "4df0cfb6-4a52-456f-b9ff-38047c1c397c",
   "metadata": {},
   "outputs": [
    {
     "data": {
      "text/plain": [
       "'llo world'"
      ]
     },
     "execution_count": 19,
     "metadata": {},
     "output_type": "execute_result"
    }
   ],
   "source": [
    "s[2 :]"
   ]
  },
  {
   "cell_type": "code",
   "execution_count": 20,
   "id": "2dfee43f-c800-42c9-9d34-1b4cc3f84953",
   "metadata": {},
   "outputs": [
    {
     "data": {
      "text/plain": [
       "'dlrow olleh'"
      ]
     },
     "execution_count": 20,
     "metadata": {},
     "output_type": "execute_result"
    }
   ],
   "source": [
    "s[:: -1]"
   ]
  },
  {
   "cell_type": "code",
   "execution_count": 21,
   "id": "f9b20d58-8f39-45bc-87af-9e274412fc34",
   "metadata": {},
   "outputs": [
    {
     "data": {
      "text/plain": [
       "'ello world'"
      ]
     },
     "execution_count": 21,
     "metadata": {},
     "output_type": "execute_result"
    }
   ],
   "source": [
    "s[1 :]"
   ]
  },
  {
   "cell_type": "code",
   "execution_count": 22,
   "id": "407dc1f1-4d9f-40a0-93fa-ea1ba30af8f6",
   "metadata": {},
   "outputs": [
    {
     "data": {
      "text/plain": [
       "'hlwl'"
      ]
     },
     "execution_count": 22,
     "metadata": {},
     "output_type": "execute_result"
    }
   ],
   "source": [
    "s[0 : 13 : 3]"
   ]
  },
  {
   "cell_type": "code",
   "execution_count": null,
   "id": "67c9fa63-9681-4bec-a29d-9f2146348598",
   "metadata": {},
   "outputs": [],
   "source": []
  },
  {
   "cell_type": "code",
   "execution_count": null,
   "id": "24a9cd41-0663-4ab7-91ec-0a3f6c48f7e8",
   "metadata": {},
   "outputs": [],
   "source": []
  }
 ],
 "metadata": {
  "kernelspec": {
   "display_name": "Python [conda env:base] *",
   "language": "python",
   "name": "conda-base-py"
  },
  "language_info": {
   "codemirror_mode": {
    "name": "ipython",
    "version": 3
   },
   "file_extension": ".py",
   "mimetype": "text/x-python",
   "name": "python",
   "nbconvert_exporter": "python",
   "pygments_lexer": "ipython3",
   "version": "3.12.7"
  }
 },
 "nbformat": 4,
 "nbformat_minor": 5
}
