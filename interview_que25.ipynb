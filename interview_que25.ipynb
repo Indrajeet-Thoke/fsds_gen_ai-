{
 "cells": [
  {
   "cell_type": "code",
   "execution_count": 1,
   "id": "f54bf297-2ba9-42c5-afcc-85fc5946bdc0",
   "metadata": {},
   "outputs": [
    {
     "name": "stdin",
     "output_type": "stream",
     "text": [
      "Enter a input seprated by space 1 20 3 35 54\n"
     ]
    },
    {
     "name": "stdout",
     "output_type": "stream",
     "text": [
      "['1', '20', '3', '35', '54']\n"
     ]
    }
   ],
   "source": [
    "user_input = input(\"Enter a input seprated by space\")\n",
    "number = user_input.split()\n",
    "print(number)"
   ]
  },
  {
   "cell_type": "code",
   "execution_count": 2,
   "id": "1ed1edc4-92b8-4af8-87aa-d3794e20a3cf",
   "metadata": {},
   "outputs": [
    {
     "name": "stdin",
     "output_type": "stream",
     "text": [
      "enter a value 12\n"
     ]
    },
    {
     "name": "stdout",
     "output_type": "stream",
     "text": [
      "number is positive\n"
     ]
    }
   ],
   "source": [
    "num = int(input(\"enter a value\"))\n",
    "if num > 0:\n",
    "    print(\"number is positive\")\n",
    "elif num < 0:\n",
    "    print(\"number is negative\")\n",
    "else:\n",
    "    print(\"zero\")"
   ]
  },
  {
   "cell_type": "code",
   "execution_count": 5,
   "id": "5acb7ed7-0672-4bbb-9fe1-6856a3bfcb03",
   "metadata": {},
   "outputs": [
    {
     "name": "stdin",
     "output_type": "stream",
     "text": [
      "Enter a number seprated by space 5 10 15 20\n"
     ]
    },
    {
     "name": "stdout",
     "output_type": "stream",
     "text": [
      "[5, 10, 15, 20]\n"
     ]
    }
   ],
   "source": [
    "user_input1 = input(\"Enter a number seprated by space\")\n",
    "numbers = list(map(int,user_input1.split()))\n",
    "print(numbers)"
   ]
  },
  {
   "cell_type": "code",
   "execution_count": 6,
   "id": "158d0f86-01c0-4011-ad8a-1dda7ee7ced0",
   "metadata": {},
   "outputs": [
    {
     "name": "stdin",
     "output_type": "stream",
     "text": [
      "Enter a string abcdefgh\n"
     ]
    },
    {
     "name": "stdout",
     "output_type": "stream",
     "text": [
      "ABCDEFGH\n"
     ]
    }
   ],
   "source": [
    "x = input(\"Enter a string\")\n",
    "print(x.upper())"
   ]
  },
  {
   "cell_type": "code",
   "execution_count": 7,
   "id": "0b42ee11-d779-460a-a02a-99441067a3d3",
   "metadata": {},
   "outputs": [
    {
     "name": "stdin",
     "output_type": "stream",
     "text": [
      "enter a string my name is Indrajeet and I am from Maharashtra\n"
     ]
    },
    {
     "name": "stdout",
     "output_type": "stream",
     "text": [
      "Numbers of vowels : 15\n"
     ]
    }
   ],
   "source": [
    "text = input(\"enter a string\")\n",
    "vowels = \"aeiou\"\n",
    "count = sum(1 for char in text if char.lower() in vowels)\n",
    "print(\"Numbers of vowels :\", count)"
   ]
  },
  {
   "cell_type": "code",
   "execution_count": 13,
   "id": "e2d9daa1-f07f-4f68-a56f-7dadecbfaef4",
   "metadata": {},
   "outputs": [
    {
     "name": "stdin",
     "output_type": "stream",
     "text": [
      "enter any number 23\n"
     ]
    },
    {
     "name": "stdout",
     "output_type": "stream",
     "text": [
      "Number is odd\n"
     ]
    }
   ],
   "source": [
    "num = int(input(\"enter any number\"))\n",
    "if num % 2 == 0:\n",
    "    print(\"Number is even\")\n",
    "else:\n",
    "    print(\"Number is odd\")"
   ]
  },
  {
   "cell_type": "code",
   "execution_count": 18,
   "id": "e2dcdc44-52ef-4a2c-8973-76ab5f72bbe9",
   "metadata": {},
   "outputs": [
    {
     "name": "stdin",
     "output_type": "stream",
     "text": [
      "enter a string  madam\n"
     ]
    },
    {
     "name": "stdout",
     "output_type": "stream",
     "text": [
      "palindrome\n"
     ]
    }
   ],
   "source": [
    "text1 = input(\"enter a string \")\n",
    "if text1 == text1[::-1]:\n",
    "    print(\"palindrome\")\n",
    "else:\n",
    "    print(\"not palindrome\")\n"
   ]
  },
  {
   "cell_type": "code",
   "execution_count": 19,
   "id": "ec59c0d4-03c6-4be9-9cf3-b0d4a3e875cb",
   "metadata": {},
   "outputs": [
    {
     "name": "stdin",
     "output_type": "stream",
     "text": [
      "enter any number 25\n"
     ]
    },
    {
     "name": "stdout",
     "output_type": "stream",
     "text": [
      "square 625\n"
     ]
    }
   ],
   "source": [
    "num3 = int(input(\"enter any number\"))\n",
    "print(\"square\", num3 **2)"
   ]
  },
  {
   "cell_type": "code",
   "execution_count": 21,
   "id": "1635474d-deae-4fac-9e02-a0bb7929a17b",
   "metadata": {},
   "outputs": [
    {
     "name": "stdin",
     "output_type": "stream",
     "text": [
      "Enter any number 12\n"
     ]
    },
    {
     "name": "stdout",
     "output_type": "stream",
     "text": [
      "number is divisible by 3\n"
     ]
    }
   ],
   "source": [
    "num4 = int(input(\"Enter any number\"))\n",
    "if num4 % 3 == 0:\n",
    "    print(\"number is divisible by 3\")\n",
    "else:\n",
    "    print(\"number is not divisible by 3\")"
   ]
  },
  {
   "cell_type": "code",
   "execution_count": 25,
   "id": "e42a413a-ef81-4dbd-a203-93213af26471",
   "metadata": {},
   "outputs": [
    {
     "name": "stdin",
     "output_type": "stream",
     "text": [
      "Enter any number 21\n"
     ]
    },
    {
     "name": "stdout",
     "output_type": "stream",
     "text": [
      "divisible by both 3 and 7\n"
     ]
    }
   ],
   "source": [
    "num5 = int(input(\"Enter any number\"))\n",
    "if num5 %3 == 0 and num5 %7 ==0:\n",
    "           print(\"divisible by both 3 and 7\")\n",
    "else:\n",
    "           print(\"Not divisible by both 0 and 7\")\n"
   ]
  },
  {
   "cell_type": "code",
   "execution_count": 26,
   "id": "93cd399a-2d16-44ab-b748-c5b749f85ab4",
   "metadata": {},
   "outputs": [
    {
     "name": "stdin",
     "output_type": "stream",
     "text": [
      "Enter a first number 12\n",
      "Enter a secound number 12\n"
     ]
    },
    {
     "name": "stdout",
     "output_type": "stream",
     "text": [
      "Product: 144\n"
     ]
    }
   ],
   "source": [
    "x = int(input(\"Enter a first number\"))\n",
    "y = int(input(\"Enter a secound number\"))\n",
    "print(\"Product:\", x*y) "
   ]
  },
  {
   "cell_type": "code",
   "execution_count": 33,
   "id": "fb0c8eab-c059-4ca0-b10a-fe185b510ee3",
   "metadata": {},
   "outputs": [
    {
     "name": "stdin",
     "output_type": "stream",
     "text": [
      "Enter a number:  6\n"
     ]
    },
    {
     "name": "stdout",
     "output_type": "stream",
     "text": [
      "not a prime number\n"
     ]
    }
   ],
   "source": [
    "z = int(input(\"Enter a number: \"))\n",
    "\n",
    "if z <= 1:\n",
    "    print(\"not a prime number\")\n",
    "else:\n",
    "    for i in range(2, z):\n",
    "        if z % i == 0:\n",
    "            print(\"not a prime number\")\n",
    "            break\n",
    "    else:\n",
    "        print(\"prime number\")\n"
   ]
  },
  {
   "cell_type": "code",
   "execution_count": 41,
   "id": "627a9339-bd44-4e5b-8df8-1ac3a29a3d03",
   "metadata": {},
   "outputs": [
    {
     "name": "stdin",
     "output_type": "stream",
     "text": [
      "Enter True or False True\n"
     ]
    },
    {
     "name": "stdout",
     "output_type": "stream",
     "text": [
      "you entered false\n"
     ]
    }
   ],
   "source": [
    "m = input(\"Enter True or False\").lower()\n",
    "if m == \"True\" :\n",
    "        print(\"you entered true\")\n",
    "else:\n",
    "    print(\"you entered false\")"
   ]
  },
  {
   "cell_type": "code",
   "execution_count": 44,
   "id": "bf795462-47a1-4514-a0aa-b9c5155dc855",
   "metadata": {},
   "outputs": [
    {
     "name": "stdin",
     "output_type": "stream",
     "text": [
      "Enter a string:  abcdefghi\n"
     ]
    },
    {
     "name": "stdout",
     "output_type": "stream",
     "text": [
      "Reversed string: ihgfedcba\n"
     ]
    }
   ],
   "source": [
    "u = input(\"Enter a string: \") \n",
    "print(\"Reversed string:\", u[::-1])\n"
   ]
  },
  {
   "cell_type": "code",
   "execution_count": 47,
   "id": "7b703c12-78e9-44cc-93e7-7d1bd5e7567f",
   "metadata": {},
   "outputs": [
    {
     "name": "stdin",
     "output_type": "stream",
     "text": [
      "enter your name indrajeet\n",
      "enter your age 22\n"
     ]
    },
    {
     "name": "stdout",
     "output_type": "stream",
     "text": [
      "hello indrajeet. you are 22 years old.\n"
     ]
    }
   ],
   "source": [
    "name = input(\"enter your name\")\n",
    "age = int(input(\"enter your age\"))\n",
    "print(f\"hello {name}. you are {age} years old.\")"
   ]
  },
  {
   "cell_type": "code",
   "execution_count": 48,
   "id": "8b2e1a48-3230-47f2-919a-743e02565a79",
   "metadata": {},
   "outputs": [
    {
     "name": "stdin",
     "output_type": "stream",
     "text": [
      "enter any number 12\n"
     ]
    },
    {
     "name": "stdout",
     "output_type": "stream",
     "text": [
      "factorial: 1\n",
      "factorial: 2\n",
      "factorial: 6\n",
      "factorial: 24\n",
      "factorial: 120\n",
      "factorial: 720\n",
      "factorial: 5040\n",
      "factorial: 40320\n",
      "factorial: 362880\n",
      "factorial: 3628800\n",
      "factorial: 39916800\n",
      "factorial: 479001600\n",
      "factorial: 6227020800\n",
      "factorial: 87178291200\n",
      "factorial: 1307674368000\n",
      "factorial: 20922789888000\n",
      "factorial: 355687428096000\n",
      "factorial: 6402373705728000\n",
      "factorial: 121645100408832000\n",
      "factorial: 2432902008176640000\n",
      "factorial: 51090942171709440000\n",
      "factorial: 1124000727777607680000\n",
      "factorial: 25852016738884976640000\n"
     ]
    }
   ],
   "source": [
    "f = int(input(\"enter any number\"))\n",
    "factorial =1\n",
    "for i in range(1,num+1):\n",
    "    factorial *=i\n",
    "    print(\"factorial:\",factorial)"
   ]
  },
  {
   "cell_type": "code",
   "execution_count": 49,
   "id": "265308f1-e0a8-44df-9b95-d93133dfdeae",
   "metadata": {},
   "outputs": [
    {
     "name": "stdin",
     "output_type": "stream",
     "text": [
      "Enter something : my name is Indrajeet Thoke and I'm from Maharashtra\n"
     ]
    },
    {
     "name": "stdout",
     "output_type": "stream",
     "text": [
      "you entered:{ui}\n"
     ]
    }
   ],
   "source": [
    "ui = input(\"Enter something :\").strip()\n",
    "if not ui:\n",
    "    print(\"Input cannot be empty.\")\n",
    "else:\n",
    "    print(\"you entered:{ui}\")"
   ]
  },
  {
   "cell_type": "code",
   "execution_count": 52,
   "id": "8727b418-7b0a-46ae-9217-1ba360a9c410",
   "metadata": {},
   "outputs": [
    {
     "name": "stdin",
     "output_type": "stream",
     "text": [
      "Enter a number:  25\n"
     ]
    },
    {
     "name": "stdout",
     "output_type": "stream",
     "text": [
      "Perfect square\n"
     ]
    }
   ],
   "source": [
    "import math\n",
    "\n",
    "no = int(input(\"Enter a number: \"))\n",
    "\n",
    "if math.isqrt(no) ** 2 == no:\n",
    "    print(\"Perfect square\")\n",
    "else:\n",
    "    print(\"Not a perfect square\")\n"
   ]
  },
  {
   "cell_type": "code",
   "execution_count": 55,
   "id": "6f7ad410-0af6-44d1-a3ab-66b271bd3546",
   "metadata": {},
   "outputs": [
    {
     "name": "stdin",
     "output_type": "stream",
     "text": [
      "Enter a year 2024\n"
     ]
    },
    {
     "name": "stdout",
     "output_type": "stream",
     "text": [
      "leap year\n"
     ]
    }
   ],
   "source": [
    "year = int(input(\"Enter a year\"))\n",
    "if(year % 4 == 0 and year % 100 !=0) or (year % 400==0):\n",
    "    print(\"leap year\")\n",
    "else:\n",
    "    print(\"Not leap year\")"
   ]
  },
  {
   "cell_type": "code",
   "execution_count": null,
   "id": "3df411d1-bfbb-408f-9f5b-43056122293a",
   "metadata": {},
   "outputs": [],
   "source": []
  },
  {
   "cell_type": "code",
   "execution_count": null,
   "id": "e06c2938-e574-4b53-8684-e86fb044ba38",
   "metadata": {},
   "outputs": [],
   "source": []
  }
 ],
 "metadata": {
  "kernelspec": {
   "display_name": "Python [conda env:base] *",
   "language": "python",
   "name": "conda-base-py"
  },
  "language_info": {
   "codemirror_mode": {
    "name": "ipython",
    "version": 3
   },
   "file_extension": ".py",
   "mimetype": "text/x-python",
   "name": "python",
   "nbconvert_exporter": "python",
   "pygments_lexer": "ipython3",
   "version": "3.12.7"
  }
 },
 "nbformat": 4,
 "nbformat_minor": 5
}
