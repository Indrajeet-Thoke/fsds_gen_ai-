{
 "cells": [
  {
   "cell_type": "code",
   "execution_count": 1,
   "id": "d453294c-0a38-420c-b2e9-e672a0183e60",
   "metadata": {},
   "outputs": [
    {
     "data": {
      "text/plain": [
       "12.5625"
      ]
     },
     "execution_count": 1,
     "metadata": {},
     "output_type": "execute_result"
    }
   ],
   "source": [
    "tax = 12.5 / 100\n",
    "price = 100.50\n",
    "price * tax"
   ]
  },
  {
   "cell_type": "code",
   "execution_count": 2,
   "id": "2e835c89-a609-4729-a3cb-1ff6c2e33435",
   "metadata": {},
   "outputs": [
    {
     "data": {
      "text/plain": [
       "113.0625"
      ]
     },
     "execution_count": 2,
     "metadata": {},
     "output_type": "execute_result"
    }
   ],
   "source": [
    "price + _"
   ]
  },
  {
   "cell_type": "code",
   "execution_count": 3,
   "id": "e960926e-c1ce-4a55-81c5-39bb87f26e47",
   "metadata": {},
   "outputs": [
    {
     "data": {
      "text/plain": [
       "113.06"
      ]
     },
     "execution_count": 3,
     "metadata": {},
     "output_type": "execute_result"
    }
   ],
   "source": [
    "round(_,2)"
   ]
  },
  {
   "cell_type": "code",
   "execution_count": 4,
   "id": "8faca16f-f3cc-47f6-b425-bc88ca68d092",
   "metadata": {},
   "outputs": [
    {
     "data": {
      "text/plain": [
       "'span eggs'"
      ]
     },
     "execution_count": 4,
     "metadata": {},
     "output_type": "execute_result"
    }
   ],
   "source": [
    "'span eggs'"
   ]
  },
  {
   "cell_type": "code",
   "execution_count": 5,
   "id": "0cbfa49a-3a85-4ddd-b006-8731a0ec73ef",
   "metadata": {},
   "outputs": [
    {
     "data": {
      "text/plain": [
       "'Paris rabbit got your back :)! yay!'"
      ]
     },
     "execution_count": 5,
     "metadata": {},
     "output_type": "execute_result"
    }
   ],
   "source": [
    "\"Paris rabbit got your back :)! yay!\""
   ]
  },
  {
   "cell_type": "code",
   "execution_count": 6,
   "id": "7088ddaf-5c86-452b-8029-bba9d3fb5bbf",
   "metadata": {},
   "outputs": [
    {
     "data": {
      "text/plain": [
       "'1975'"
      ]
     },
     "execution_count": 6,
     "metadata": {},
     "output_type": "execute_result"
    }
   ],
   "source": [
    "'1975'"
   ]
  },
  {
   "cell_type": "code",
   "execution_count": 7,
   "id": "8f7edc31-777f-4703-96b8-ead97ce174dc",
   "metadata": {},
   "outputs": [
    {
     "data": {
      "text/plain": [
       "\"dosen 't\""
      ]
     },
     "execution_count": 7,
     "metadata": {},
     "output_type": "execute_result"
    }
   ],
   "source": [
    "'dosen \\'t'"
   ]
  },
  {
   "cell_type": "code",
   "execution_count": 8,
   "id": "2611911f-fdc4-42a6-83e0-db70ea235a46",
   "metadata": {},
   "outputs": [
    {
     "data": {
      "text/plain": [
       "'python'"
      ]
     },
     "execution_count": 8,
     "metadata": {},
     "output_type": "execute_result"
    }
   ],
   "source": [
    "'py' 'thon'"
   ]
  },
  {
   "cell_type": "code",
   "execution_count": 9,
   "id": "49589857-b7d2-4c68-aef5-d7003411dfd2",
   "metadata": {},
   "outputs": [
    {
     "ename": "SyntaxError",
     "evalue": "invalid syntax (1732588092.py, line 2)",
     "output_type": "error",
     "traceback": [
      "\u001b[1;36m  Cell \u001b[1;32mIn[9], line 2\u001b[1;36m\u001b[0m\n\u001b[1;33m    prefix 'thon'\u001b[0m\n\u001b[1;37m           ^\u001b[0m\n\u001b[1;31mSyntaxError\u001b[0m\u001b[1;31m:\u001b[0m invalid syntax\n"
     ]
    }
   ],
   "source": [
    "prifix ='py'\n",
    "prefix 'thon'\n",
    "prifix"
   ]
  },
  {
   "cell_type": "code",
   "execution_count": 10,
   "id": "48c4c223-6239-46f1-823f-cb62c7f2ad78",
   "metadata": {},
   "outputs": [
    {
     "ename": "NameError",
     "evalue": "name 'prefix' is not defined",
     "output_type": "error",
     "traceback": [
      "\u001b[1;31m---------------------------------------------------------------------------\u001b[0m",
      "\u001b[1;31mNameError\u001b[0m                                 Traceback (most recent call last)",
      "Cell \u001b[1;32mIn[10], line 1\u001b[0m\n\u001b[1;32m----> 1\u001b[0m prefix \u001b[38;5;241m+\u001b[39m \u001b[38;5;124m'\u001b[39m\u001b[38;5;124mthon\u001b[39m\u001b[38;5;124m'\u001b[39m\n",
      "\u001b[1;31mNameError\u001b[0m: name 'prefix' is not defined"
     ]
    }
   ],
   "source": [
    "prefix + 'thon'"
   ]
  },
  {
   "cell_type": "code",
   "execution_count": null,
   "id": "437e40ff-aa5a-4b6c-9a59-38a9f2303296",
   "metadata": {},
   "outputs": [],
   "source": []
  }
 ],
 "metadata": {
  "kernelspec": {
   "display_name": "Python 3 (ipykernel)",
   "language": "python",
   "name": "python3"
  },
  "language_info": {
   "codemirror_mode": {
    "name": "ipython",
    "version": 3
   },
   "file_extension": ".py",
   "mimetype": "text/x-python",
   "name": "python",
   "nbconvert_exporter": "python",
   "pygments_lexer": "ipython3",
   "version": "3.12.7"
  }
 },
 "nbformat": 4,
 "nbformat_minor": 5
}
