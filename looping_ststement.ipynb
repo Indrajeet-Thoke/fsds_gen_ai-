{
 "cells": [
  {
   "cell_type": "markdown",
   "id": "de3ebc39-d265-48d5-b300-e30d3a6a1ee9",
   "metadata": {},
   "source": [
    "1. Right Angle Triangle Pattern"
   ]
  },
  {
   "cell_type": "code",
   "execution_count": 2,
   "id": "60638f7c-bcb3-4138-9cd0-ca21608b34b5",
   "metadata": {},
   "outputs": [
    {
     "name": "stdout",
     "output_type": "stream",
     "text": [
      " * \n",
      " *  * \n",
      " *  *  * \n",
      " *  *  *  * \n",
      " *  *  *  *  * \n"
     ]
    }
   ],
   "source": [
    "for i in range(1,6):\n",
    "    print(\" * \"*i)"
   ]
  },
  {
   "cell_type": "markdown",
   "id": "bfe761a5-be6e-4f73-8eac-b238662dc42d",
   "metadata": {},
   "source": [
    "Inverted Right Angle Triangle Pattern"
   ]
  },
  {
   "cell_type": "code",
   "execution_count": 3,
   "id": "ea18f877-9f0f-459d-b21f-136ea275fc92",
   "metadata": {},
   "outputs": [
    {
     "name": "stdout",
     "output_type": "stream",
     "text": [
      " *  *  *  *  * \n",
      " *  *  *  * \n",
      " *  *  * \n",
      " *  * \n",
      " * \n"
     ]
    }
   ],
   "source": [
    "for i in range (5,0,-1):\n",
    "    print(\" * \" *i)"
   ]
  },
  {
   "cell_type": "markdown",
   "id": "8f1bb278-aa43-475e-8a9d-8e325ac8622b",
   "metadata": {},
   "source": [
    "Pyramid Pattern"
   ]
  },
  {
   "cell_type": "code",
   "execution_count": 9,
   "id": "28ce14b6-d378-4190-8e96-bd0fc8cb24f5",
   "metadata": {},
   "outputs": [
    {
     "name": "stdout",
     "output_type": "stream",
     "text": [
      " * \n",
      " *  *  * \n",
      " *  *  *  *  * \n",
      " *  *  *  *  *  *  * \n",
      " *  *  *  *  *  *  *  *  * \n"
     ]
    }
   ],
   "source": [
    "for i in range (1,6):\n",
    "    print(\" * \" * (2*i - 1))"
   ]
  },
  {
   "cell_type": "markdown",
   "id": "2a771c71-9d5d-44ea-a138-ef0871b86410",
   "metadata": {},
   "source": [
    "Inverted Pyramid Pattern"
   ]
  },
  {
   "cell_type": "code",
   "execution_count": 12,
   "id": "17cf09bc-485a-4cec-8001-352f656a4b9c",
   "metadata": {},
   "outputs": [
    {
     "name": "stdout",
     "output_type": "stream",
     "text": [
      " *  *  *  *  *  *  *  *  * \n",
      " *  *  *  *  *  *  * \n",
      " *  *  *  *  * \n",
      " *  *  * \n",
      " * \n"
     ]
    }
   ],
   "source": [
    "for i in range(5,0,-1):\n",
    "    print(\" * \" *(2*i-1))"
   ]
  },
  {
   "cell_type": "markdown",
   "id": "0b1b2f22-5876-4f45-9498-b9faf8a32219",
   "metadata": {},
   "source": [
    "Diamond Pattern"
   ]
  },
  {
   "cell_type": "code",
   "execution_count": 14,
   "id": "ad15494f-b76e-4391-8907-e0d7bf12ba60",
   "metadata": {},
   "outputs": [
    {
     "name": "stdout",
     "output_type": "stream",
     "text": [
      " + \n",
      " +  +  + \n",
      " +  +  +  +  + \n",
      " +  +  +  +  +  +  + \n",
      " +  +  +  +  +  +  +  +  + \n",
      " +  +  +  +  +  +  + \n",
      " +  +  +  +  + \n",
      " +  +  + \n",
      " + \n"
     ]
    }
   ],
   "source": [
    "for i in range (1,6):\n",
    "    print(\"\"*(5-i)+ \" + \"*(2*i-1))\n",
    "for i in range(4,0,-1):\n",
    "    print(\"\"*(5-i)+ \" + \"*(2*i-1))"
   ]
  },
  {
   "cell_type": "markdown",
   "id": "6e5e3c84-db67-4e8a-9302-4970d9d24094",
   "metadata": {},
   "source": [
    "Hallow Square Pattern"
   ]
  },
  {
   "cell_type": "code",
   "execution_count": 17,
   "id": "7726515a-eb69-46ee-91f0-12943aeb6023",
   "metadata": {},
   "outputs": [
    {
     "name": "stdout",
     "output_type": "stream",
     "text": [
      "*****\n",
      "*   *\n",
      "*   *\n",
      "*   *\n",
      "*****\n"
     ]
    }
   ],
   "source": [
    "for i in range (5):\n",
    "    for j in range(5):\n",
    "        if i==0 or i==4 or j==0 or j==4:\n",
    "            print(\"*\",end=\"\")\n",
    "        else:\n",
    "            print(\" \", end=\"\")\n",
    "    print()\n",
    "        "
   ]
  },
  {
   "cell_type": "markdown",
   "id": "d901e375-a866-4aec-ac24-e1fc53300d19",
   "metadata": {},
   "source": [
    "Full square Pattern"
   ]
  },
  {
   "cell_type": "code",
   "execution_count": 3,
   "id": "3bfa092e-4e6d-413c-b086-546df18de726",
   "metadata": {},
   "outputs": [
    {
     "name": "stdout",
     "output_type": "stream",
     "text": [
      " *  *  *  *  * \n",
      " *  *  *  *  * \n",
      " *  *  *  *  * \n",
      " *  *  *  *  * \n",
      " *  *  *  *  * \n"
     ]
    }
   ],
   "source": [
    "for i in range(5):\n",
    "    print(\" * \"*5)"
   ]
  },
  {
   "cell_type": "markdown",
   "id": "42ebe679-473a-47c8-bc1d-94a89ce2d3ae",
   "metadata": {},
   "source": [
    "Right Angle Triangle (Number Pattern)"
   ]
  },
  {
   "cell_type": "raw",
   "id": "a82375b3-4037-4f95-aac5-11a449062b92",
   "metadata": {},
   "source": [
    "for i in range (1,6):\n",
    "    print(\" \".join(str(x)for x in range (1,i+1)))"
   ]
  },
  {
   "cell_type": "markdown",
   "id": "de1de351-40f5-4923-9134-8a752f99051c",
   "metadata": {},
   "source": [
    "Inverted Right Angle Triangle (Number Pattern)"
   ]
  },
  {
   "cell_type": "code",
   "execution_count": 9,
   "id": "ae67dad8-cdd5-4a0c-8ffc-837283edda6b",
   "metadata": {},
   "outputs": [
    {
     "name": "stdout",
     "output_type": "stream",
     "text": [
      "1 2 3 4 5\n",
      "1 2 3 4\n",
      "1 2 3\n",
      "1 2\n",
      "1\n"
     ]
    }
   ],
   "source": [
    "for i in range(5,0,-1):\n",
    "    print(\" \".join(str(x)for x in range(1,i+1)))"
   ]
  },
  {
   "cell_type": "markdown",
   "id": "85ffe246-bec1-4c7d-9405-eb8115b8f14f",
   "metadata": {},
   "source": [
    "Floyd's Triangle"
   ]
  },
  {
   "cell_type": "code",
   "execution_count": 16,
   "id": "6dc1571d-4786-4916-9a05-5ce5cd45f0f8",
   "metadata": {},
   "outputs": [
    {
     "name": "stdout",
     "output_type": "stream",
     "text": [
      "1 \n",
      "2 3 \n",
      "4 5 6 \n",
      "7 8 9 10 \n",
      "11 12 13 14 15 \n"
     ]
    }
   ],
   "source": [
    "num=1\n",
    "for i in range(1,6):\n",
    "    for j in range(1,i+1):\n",
    "        print(num,end=\" \")\n",
    "        num+=1\n",
    "    print()"
   ]
  },
  {
   "cell_type": "markdown",
   "id": "6b7bb699-4a0d-49de-b2e7-7bf2ac59f39d",
   "metadata": {},
   "source": [
    "Hallow Right Angle Triangle"
   ]
  },
  {
   "cell_type": "code",
   "execution_count": 25,
   "id": "4a4c1a89-4dc5-4bf5-8805-585e65cabe10",
   "metadata": {},
   "outputs": [
    {
     "name": "stdout",
     "output_type": "stream",
     "text": [
      "* \n",
      "* * \n",
      "*   * \n",
      "*     * \n",
      "* * * * * \n"
     ]
    }
   ],
   "source": [
    "for i in range(1,6):\n",
    "    for j in range(1,i+1):\n",
    "        if j==1 or j == i or i == 5:\n",
    "            print(\"*\", end=\" \")\n",
    "        else:\n",
    "            print(\" \",end =\" \" )\n",
    "    print()    "
   ]
  },
  {
   "cell_type": "markdown",
   "id": "056e39bf-2916-464e-ad53-8a22ff705f83",
   "metadata": {},
   "source": [
    "Hallo Piramid Pattern"
   ]
  },
  {
   "cell_type": "code",
   "execution_count": 27,
   "id": "e1c3215c-b2a7-4a26-9089-5a4d9d3ab5da",
   "metadata": {},
   "outputs": [
    {
     "name": "stdout",
     "output_type": "stream",
     "text": [
      "        * \n",
      "      *   * \n",
      "    *       * \n",
      "  *           * \n",
      "* * * * * * * * * \n"
     ]
    }
   ],
   "source": [
    "for i in range(1, 6):\n",
    "    for j in range(5 - i):\n",
    "        print(\" \", end= \" \")\n",
    "    for j in range(2 * i - 1):\n",
    "        if j == 0 or j == 2 * i - 2 or i == 5:\n",
    "            print(\"*\", end= \" \")\n",
    "        else:\n",
    "            print(\" \",end=\" \")\n",
    "    print()"
   ]
  },
  {
   "cell_type": "markdown",
   "id": "92f2531a-7d82-4046-8bdb-3085979e7bc4",
   "metadata": {},
   "source": [
    "Hallow Diamond Pattern"
   ]
  },
  {
   "cell_type": "code",
   "execution_count": 31,
   "id": "6dec5f8a-e66a-41ad-a8e7-3b1c71434b78",
   "metadata": {},
   "outputs": [
    {
     "name": "stdout",
     "output_type": "stream",
     "text": [
      "        * \n",
      "      *   * \n",
      "    *       * \n",
      "  *           * \n",
      "*               * \n",
      "  *           * \n",
      "    *       * \n",
      "      *   * \n",
      "        * \n"
     ]
    }
   ],
   "source": [
    "n = 5\n",
    "for i in range(1, n+1):\n",
    "    for j in range(n - i):\n",
    "        print(\" \", end=\" \")\n",
    "    for j in range(2 * i -1):\n",
    "        if j == 0 or j == 2 * i - 2:\n",
    "            print(\"*\", end = \" \")\n",
    "        else:\n",
    "            print(\" \", end=\" \")\n",
    "    print()\n",
    "for i in range(n - 1, 0, -1):\n",
    "    for j in range(n - i):\n",
    "        print(\" \", end= \" \")\n",
    "    for j in range(2 * i - 1):\n",
    "        if j == 0 or j == 2 * i -2:\n",
    "            print(\"*\", end= \" \")\n",
    "        else:\n",
    "            print(\" \",end=\" \")\n",
    "    print()"
   ]
  },
  {
   "cell_type": "markdown",
   "id": "fc24bc2c-de02-4da7-a14d-1268aa512e9a",
   "metadata": {},
   "source": [
    "Hallow Diamond (Number Pattern)"
   ]
  },
  {
   "cell_type": "code",
   "execution_count": 42,
   "id": "32d97478-eda2-48d5-95ef-0161d9719ff1",
   "metadata": {},
   "outputs": [
    {
     "name": "stdout",
     "output_type": "stream",
     "text": [
      "        1 \n",
      "      2   2 \n",
      "    3       3 \n",
      "  4           4 \n",
      "5               5 \n",
      "  4           4 \n",
      "    3       3 \n",
      "      2   2 \n",
      "        1 \n"
     ]
    }
   ],
   "source": [
    "n = 5\n",
    "\n",
    "# Upper part\n",
    "for i in range(1, n + 1):\n",
    "    # Print leading spaces\n",
    "    for j in range(n - i):\n",
    "        print(\" \", end=\" \")\n",
    "\n",
    "    # Print hollow number pattern\n",
    "    for j in range(2 * i - 1):\n",
    "        if j == 0 or j == 2 * i - 2:\n",
    "            print(i, end=\" \")\n",
    "        else:\n",
    "            print(\" \", end=\" \")\n",
    "    print()\n",
    "\n",
    "# Lower part\n",
    "for i in range(n - 1, 0, -1):\n",
    "    # Print leading spaces\n",
    "    for j in range(n - i):\n",
    "        print(\" \", end=\" \")\n",
    "\n",
    "    # Print hollow number pattern\n",
    "    for j in range(2 * i - 1):\n",
    "        if j == 0 or j == 2 * i - 2:\n",
    "            print(i, end=\" \")\n",
    "        else:\n",
    "            print(\" \", end=\" \")\n",
    "    print()\n"
   ]
  },
  {
   "cell_type": "markdown",
   "id": "cc232e4b-c741-4d23-a2e9-942db5184bc9",
   "metadata": {},
   "source": [
    "Buttrrfly Pattern"
   ]
  },
  {
   "cell_type": "code",
   "execution_count": 46,
   "id": "d38d38d4-23e1-4e76-85f4-89f50548244d",
   "metadata": {},
   "outputs": [
    {
     "name": "stdout",
     "output_type": "stream",
     "text": [
      "1                 1 \n",
      "1 2             2 1 \n",
      "1 2 3         3 2 1 \n",
      "1 2 3 4     4 3 2 1 \n",
      "1 2 3 4 5 \n",
      "1 2 3 4 5 5 4 3 2 1 \n",
      "1 2 3 4     4 3 2 1 \n",
      "1 2 3         3 2 1 \n",
      "1 2             2 1 \n",
      "1                 1 \n",
      "*                 * \n",
      "* *             * * \n",
      "* * *         * * * \n",
      "* * * *     * * * * \n",
      "* * * * * * * * * * \n",
      "* * * * * * * * * * \n",
      "* * * *     * * * * \n",
      "* * *         * * * \n",
      "* *             * * \n",
      "*                 * \n"
     ]
    }
   ],
   "source": [
    "n = 5\n",
    "# Upper Half\n",
    "for i in range(1, n + 1):\n",
    "    for j in range(1, i + 1):\n",
    "        print(f\"{j} \", end=\"\")\n",
    "    for j in range(2 * (n - i)):\n",
    "        print(\"  \", end=\"\")  # Use double space for even alignment\n",
    "    for j in range(i, 0, -1):\n",
    "        if i != n:\n",
    "            print(f\"{j} \", end=\"\")\n",
    "    print()\n",
    "\n",
    "# Lower Half\n",
    "for i in range(n, 0, -1):\n",
    "    for j in range(1, i + 1):\n",
    "        print(f\"{j} \", end=\"\")\n",
    "    for j in range(2 * (n - i)):\n",
    "        print(\"  \", end=\"\")\n",
    "    for j in range(i, 0, -1):\n",
    "        print(f\"{j} \", end=\"\")\n",
    "    print()\n",
    "n = 5\n",
    "# Upper Half\n",
    "for i in range(1, n + 1):\n",
    "    for j in range(i):\n",
    "        print(\"* \", end=\"\")\n",
    "    for j in range(2 * (n - i)):\n",
    "        print(\"  \", end=\"\")\n",
    "    for j in range(i):\n",
    "        print(\"* \", end=\"\")\n",
    "    print()\n",
    "\n",
    "# Lower Half\n",
    "for i in range(n, 0, -1):\n",
    "    for j in range(i):\n",
    "        print(\"* \", end=\"\")\n",
    "    for j in range(2 * (n - i)):\n",
    "        print(\"  \", end=\"\")\n",
    "    for j in range(i):\n",
    "        print(\"* \", end=\"\")\n",
    "    print()\n"
   ]
  },
  {
   "cell_type": "code",
   "execution_count": 47,
   "id": "255bee11-33bc-43c2-a653-ccc765724d75",
   "metadata": {},
   "outputs": [
    {
     "name": "stdout",
     "output_type": "stream",
     "text": [
      "        1 \n",
      "      2   2 \n",
      "    3       3 \n",
      "  4           4 \n",
      "5 5 5 5 5 5 5 5 5 \n"
     ]
    }
   ],
   "source": [
    "n = 5\n",
    "for i in range(1,n + 1):\n",
    "    for j in range(n - i):\n",
    "        print(\" \", end=\" \")\n",
    "\n",
    "\n",
    "    for j in range(1, 2 * i):\n",
    "        if j ==1 or j ==2 * i - 1 or i == n:\n",
    "            print(i, end=\" \")\n",
    "        else:\n",
    "            print(\" \", end=\" \")\n",
    "    print()"
   ]
  },
  {
   "cell_type": "markdown",
   "id": "c4217621-3f63-4fc0-8d68-af329de0a9da",
   "metadata": {},
   "source": [
    "Full Star Pyramid"
   ]
  },
  {
   "cell_type": "code",
   "execution_count": 48,
   "id": "7a872e51-13df-49cf-a55b-14c849acdc1f",
   "metadata": {},
   "outputs": [
    {
     "name": "stdout",
     "output_type": "stream",
     "text": [
      "        * \n",
      "      * * * \n",
      "    * * * * * \n",
      "  * * * * * * * \n",
      "* * * * * * * * * \n"
     ]
    }
   ],
   "source": [
    "n = 5\n",
    "for i in range(1, n + 1):\n",
    "\n",
    "    for j in range(n - i):\n",
    "        print(\" \", end=\" \")\n",
    "\n",
    "\n",
    "    for j in range(2 * i - 1):\n",
    "        print(\"*\", end=\" \")\n",
    "    print()"
   ]
  },
  {
   "cell_type": "markdown",
   "id": "e8041b86-89e1-4e03-9f8d-eebb577f7301",
   "metadata": {},
   "source": [
    "Inverted Full Star Pyramid"
   ]
  },
  {
   "cell_type": "code",
   "execution_count": 50,
   "id": "6320c5a5-2e76-4159-bb59-474adcb58b9d",
   "metadata": {},
   "outputs": [
    {
     "name": "stdout",
     "output_type": "stream",
     "text": [
      "* * * * * * * * * \n",
      "  * * * * * * * \n",
      "    * * * * * \n",
      "      * * * \n",
      "        * \n"
     ]
    }
   ],
   "source": [
    "n = 5\n",
    "\n",
    "for i in range(n, 0, -1):\n",
    "\n",
    "    for j in range(n - i):\n",
    "        print(\" \", end=\" \")\n",
    "\n",
    "    for j in range(2 * i - 1):\n",
    "        print(\"*\", end=\" \")\n",
    "\n",
    "    print()"
   ]
  },
  {
   "cell_type": "markdown",
   "id": "3d32e3cd-5398-4c58-bd17-796ef779c5dd",
   "metadata": {},
   "source": [
    "Left Aligned Pyramid Pattern"
   ]
  },
  {
   "cell_type": "code",
   "execution_count": 51,
   "id": "1a0f69e1-aac6-4a79-9376-8355f96e1ff2",
   "metadata": {},
   "outputs": [
    {
     "name": "stdout",
     "output_type": "stream",
     "text": [
      "* \n",
      "* * \n",
      "* * * \n",
      "* * * * \n",
      "* * * * * \n",
      "1 \n",
      "1 2 \n",
      "1 2 3 \n",
      "1 2 3 4 \n",
      "1 2 3 4 5 \n"
     ]
    }
   ],
   "source": [
    "n = 5\n",
    "\n",
    "for i in range(1, n + 1):\n",
    "\n",
    "    for j in range(i):\n",
    "        print(\"*\", end=\" \")\n",
    "    print()\n",
    "\n",
    "\n",
    "n = 5\n",
    "\n",
    "for i in range(1, n + 1):\n",
    "    for j in range(1, i +1):\n",
    "        print(j, end=\" \")\n",
    "    print()"
   ]
  },
  {
   "cell_type": "markdown",
   "id": "ce2bb64a-e45a-4b26-a956-f980d6d97f0c",
   "metadata": {},
   "source": [
    "Right Aligned Pyramid Pattern"
   ]
  },
  {
   "cell_type": "code",
   "execution_count": null,
   "id": "8184f1c7-49f2-4227-9825-e0e7af4f9bfb",
   "metadata": {},
   "outputs": [],
   "source": [
    "n = 5\n",
    "for i in range(1, n + 1):\n",
    "\n",
    "    for j in range(n - i):\n",
    "        print(\" \", end=\" \")\n",
    "\n",
    "    for j in range(1,i + 1):\n",
    "        print(j, end=\" \")\n",
    "    print()\n",
    "n = 5\n",
    "\n",
    "for i in range(1, n + 1):\n",
    "\n",
    "    for j in range(n -i):\n",
    "        print(\" \", end=\" \")\n",
    "\n",
    "    for j in range(i):\n",
    "        print("
   ]
  }
 ],
 "metadata": {
  "kernelspec": {
   "display_name": "Python 3 (ipykernel)",
   "language": "python",
   "name": "python3"
  },
  "language_info": {
   "codemirror_mode": {
    "name": "ipython",
    "version": 3
   },
   "file_extension": ".py",
   "mimetype": "text/x-python",
   "name": "python",
   "nbconvert_exporter": "python",
   "pygments_lexer": "ipython3",
   "version": "3.13.5"
  }
 },
 "nbformat": 4,
 "nbformat_minor": 5
}
