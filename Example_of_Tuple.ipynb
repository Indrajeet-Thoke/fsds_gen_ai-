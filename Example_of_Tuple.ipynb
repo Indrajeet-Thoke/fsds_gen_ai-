{
 "cells": [
  {
   "cell_type": "code",
   "execution_count": 3,
   "id": "0406cadd-2d40-4365-8882-862a3baae52e",
   "metadata": {},
   "outputs": [],
   "source": [
    "tup1 = ()  #Empty tuple"
   ]
  },
  {
   "cell_type": "code",
   "execution_count": 4,
   "id": "8f64239f-e62c-41a8-9945-a71312cfded3",
   "metadata": {},
   "outputs": [],
   "source": [
    "tup2 = (10,30,60)  #tuple of integer values"
   ]
  },
  {
   "cell_type": "code",
   "execution_count": 5,
   "id": "b1e6218b-2274-4aa9-b3aa-b90b1680a73d",
   "metadata": {},
   "outputs": [],
   "source": [
    "tup3 = (10.77,30.66,60.89)  #tuple of float numbers"
   ]
  },
  {
   "cell_type": "code",
   "execution_count": 6,
   "id": "17f055be-a256-4ad1-8da6-99030cc83712",
   "metadata": {},
   "outputs": [],
   "source": [
    "tup4 = ('one', 'two', 'three') #tuple of strings"
   ]
  },
  {
   "cell_type": "code",
   "execution_count": 9,
   "id": "2d27be87-3227-4507-b9c1-d528989aff57",
   "metadata": {},
   "outputs": [],
   "source": [
    "tup5 = ('Indrajeet',25,(50, 100),(150,90)) #Nested tuples"
   ]
  },
  {
   "cell_type": "code",
   "execution_count": 10,
   "id": "37894de6-ff74-4ed9-aebd-671ef1917fdf",
   "metadata": {},
   "outputs": [],
   "source": [
    "tup6 = (100, 'Indrajeet', 17.765)  #Tuple of mixed data types"
   ]
  },
  {
   "cell_type": "code",
   "execution_count": 11,
   "id": "6de9ea8d-ef59-4936-9135-41a9d00ed609",
   "metadata": {},
   "outputs": [],
   "source": [
    "tup7 = ('Indrajeet', 25,[50,100],[150,90], {'john','David '} , (99,22,33))"
   ]
  },
  {
   "cell_type": "code",
   "execution_count": 12,
   "id": "f389b80d-faa7-46bb-8520-facce6d19fd9",
   "metadata": {},
   "outputs": [
    {
     "data": {
      "text/plain": [
       "6"
      ]
     },
     "execution_count": 12,
     "metadata": {},
     "output_type": "execute_result"
    }
   ],
   "source": [
    "len(tup7) #Length of the list"
   ]
  },
  {
   "cell_type": "code",
   "execution_count": 13,
   "id": "1215158a-f5a1-4244-90b5-a4d70fa79520",
   "metadata": {},
   "outputs": [
    {
     "data": {
      "text/plain": [
       "10"
      ]
     },
     "execution_count": 13,
     "metadata": {},
     "output_type": "execute_result"
    }
   ],
   "source": [
    "tup2[0] #Retrive the first element of the tuple"
   ]
  },
  {
   "cell_type": "code",
   "execution_count": 14,
   "id": "1f6346f5-a165-4c78-a69c-46a5061b30b2",
   "metadata": {},
   "outputs": [
    {
     "data": {
      "text/plain": [
       "'one'"
      ]
     },
     "execution_count": 14,
     "metadata": {},
     "output_type": "execute_result"
    }
   ],
   "source": [
    "tup4[0] #Retrive the first element of the tuple"
   ]
  },
  {
   "cell_type": "code",
   "execution_count": 16,
   "id": "aca29395-9c0d-4d6d-a72e-55650ac7f9f2",
   "metadata": {},
   "outputs": [
    {
     "data": {
      "text/plain": [
       "'o'"
      ]
     },
     "execution_count": 16,
     "metadata": {},
     "output_type": "execute_result"
    }
   ],
   "source": [
    "tup4[0][0] #Nested indexing - Access the first character of the first element"
   ]
  },
  {
   "cell_type": "code",
   "execution_count": 17,
   "id": "f35713f5-3629-4a1d-b57e-4af070e54534",
   "metadata": {},
   "outputs": [
    {
     "data": {
      "text/plain": [
       "'three'"
      ]
     },
     "execution_count": 17,
     "metadata": {},
     "output_type": "execute_result"
    }
   ],
   "source": [
    "tup4[-1] #last item of the tuple"
   ]
  },
  {
   "cell_type": "code",
   "execution_count": 18,
   "id": "5c2fb357-43ba-4526-ae07-7094a26fe9db",
   "metadata": {},
   "outputs": [
    {
     "data": {
      "text/plain": [
       "(150, 90)"
      ]
     },
     "execution_count": 18,
     "metadata": {},
     "output_type": "execute_result"
    }
   ],
   "source": [
    "tup5[-1] #Last item of the tuple"
   ]
  },
  {
   "cell_type": "markdown",
   "id": "2b030b74-d4d1-4639-ac09-b34db281d0d4",
   "metadata": {},
   "source": [
    "Tuple Slicing"
   ]
  },
  {
   "cell_type": "code",
   "execution_count": 20,
   "id": "39db7826-f9f0-4f8c-b89f-8468c161da1f",
   "metadata": {},
   "outputs": [],
   "source": [
    "mytuple =('one','two','three','four','five','six','seven','eight')"
   ]
  },
  {
   "cell_type": "code",
   "execution_count": 21,
   "id": "e94f6e65-6cc0-43a2-8960-8a3cf55e0b15",
   "metadata": {},
   "outputs": [
    {
     "data": {
      "text/plain": [
       "('one', 'two', 'three')"
      ]
     },
     "execution_count": 21,
     "metadata": {},
     "output_type": "execute_result"
    }
   ],
   "source": [
    "mytuple[0:3] #Return all the item from 0th to 3rd index location excludind the item"
   ]
  },
  {
   "cell_type": "code",
   "execution_count": 22,
   "id": "7f05d4fb-5911-4d3a-97e5-ae86c8903198",
   "metadata": {},
   "outputs": [
    {
     "data": {
      "text/plain": [
       "('one', 'two', 'three')"
      ]
     },
     "execution_count": 22,
     "metadata": {},
     "output_type": "execute_result"
    }
   ],
   "source": [
    "mytuple[:3] #Retur first three item"
   ]
  },
  {
   "cell_type": "code",
   "execution_count": 23,
   "id": "625b073d-548f-4777-bade-52c1b55751d1",
   "metadata": {},
   "outputs": [
    {
     "data": {
      "text/plain": [
       "('one', 'two')"
      ]
     },
     "execution_count": 23,
     "metadata": {},
     "output_type": "execute_result"
    }
   ],
   "source": [
    "mytuple[:2] #Return first two item"
   ]
  },
  {
   "cell_type": "code",
   "execution_count": 25,
   "id": "a6179bc5-fcec-47ac-bed0-6a72b80416d1",
   "metadata": {},
   "outputs": [
    {
     "data": {
      "text/plain": [
       "('six', 'seven', 'eight')"
      ]
     },
     "execution_count": 25,
     "metadata": {},
     "output_type": "execute_result"
    }
   ],
   "source": [
    "mytuple[-3:] #Return last three item"
   ]
  },
  {
   "cell_type": "code",
   "execution_count": 26,
   "id": "e768acbf-f997-4a3d-9bfa-3539ab84aea2",
   "metadata": {},
   "outputs": [
    {
     "data": {
      "text/plain": [
       "('seven', 'eight')"
      ]
     },
     "execution_count": 26,
     "metadata": {},
     "output_type": "execute_result"
    }
   ],
   "source": [
    "mytuple[-2:] #Return last two items"
   ]
  },
  {
   "cell_type": "code",
   "execution_count": 27,
   "id": "570543d5-60b9-4a63-bfdf-3fe8a69039aa",
   "metadata": {},
   "outputs": [
    {
     "data": {
      "text/plain": [
       "'eight'"
      ]
     },
     "execution_count": 27,
     "metadata": {},
     "output_type": "execute_result"
    }
   ],
   "source": [
    "mytuple[-1] #Return last item of the tuple"
   ]
  },
  {
   "cell_type": "code",
   "execution_count": 28,
   "id": "af3f6951-8319-4bba-974c-bf1730af26ed",
   "metadata": {},
   "outputs": [
    {
     "data": {
      "text/plain": [
       "('one', 'two', 'three', 'four', 'five', 'six', 'seven', 'eight')"
      ]
     },
     "execution_count": 28,
     "metadata": {},
     "output_type": "execute_result"
    }
   ],
   "source": [
    "mytuple[:] #Return whole the tuple"
   ]
  },
  {
   "cell_type": "markdown",
   "id": "a3857566-4909-4afc-8042-9e65fb921860",
   "metadata": {},
   "source": [
    "Remove & change items"
   ]
  },
  {
   "cell_type": "code",
   "execution_count": 29,
   "id": "ccef36b1-35e6-46cd-b948-e3c55eaf5ff7",
   "metadata": {},
   "outputs": [
    {
     "data": {
      "text/plain": [
       "('one', 'two', 'three', 'four', 'five', 'six', 'seven', 'eight')"
      ]
     },
     "execution_count": 29,
     "metadata": {},
     "output_type": "execute_result"
    }
   ],
   "source": [
    "mytuple"
   ]
  },
  {
   "cell_type": "code",
   "execution_count": 30,
   "id": "3601d772-09ed-49eb-9b70-2af423798722",
   "metadata": {},
   "outputs": [],
   "source": [
    "del mytuple"
   ]
  },
  {
   "cell_type": "markdown",
   "id": "1b4fd97e-8d66-4038-a8a6-692ef78392ef",
   "metadata": {},
   "source": [
    "Looping Through a tuple"
   ]
  },
  {
   "cell_type": "code",
   "execution_count": 32,
   "id": "845aab76-946e-4b0c-a54d-dadb64ecf647",
   "metadata": {},
   "outputs": [],
   "source": [
    "mytuple =('one','two','three','four','five','six','seven','eight')"
   ]
  },
  {
   "cell_type": "code",
   "execution_count": 33,
   "id": "afdbc086-f4b1-4bfb-8117-fd71ff17fbba",
   "metadata": {},
   "outputs": [
    {
     "data": {
      "text/plain": [
       "('one', 'two', 'three', 'four', 'five', 'six', 'seven', 'eight')"
      ]
     },
     "execution_count": 33,
     "metadata": {},
     "output_type": "execute_result"
    }
   ],
   "source": [
    "mytuple"
   ]
  },
  {
   "cell_type": "code",
   "execution_count": 34,
   "id": "4e5e3fe8-5ad2-4c2c-a0e0-702a3928c6cf",
   "metadata": {},
   "outputs": [
    {
     "name": "stdout",
     "output_type": "stream",
     "text": [
      "one\n",
      "two\n",
      "three\n",
      "four\n",
      "five\n",
      "six\n",
      "seven\n",
      "eight\n"
     ]
    }
   ],
   "source": [
    "for i in mytuple:\n",
    "    print(i)"
   ]
  },
  {
   "cell_type": "code",
   "execution_count": 35,
   "id": "ca4bb92a-6499-4452-be3f-840714c4f25f",
   "metadata": {},
   "outputs": [
    {
     "name": "stdout",
     "output_type": "stream",
     "text": [
      "(0, 'one')\n",
      "(1, 'two')\n",
      "(2, 'three')\n",
      "(3, 'four')\n",
      "(4, 'five')\n",
      "(5, 'six')\n",
      "(6, 'seven')\n",
      "(7, 'eight')\n"
     ]
    }
   ],
   "source": [
    "for i in enumerate(mytuple):\n",
    "    print(i)"
   ]
  },
  {
   "cell_type": "code",
   "execution_count": 36,
   "id": "d9bc0b00-8b8e-4336-957b-37d9b6abf8ca",
   "metadata": {},
   "outputs": [
    {
     "data": {
      "text/plain": [
       "('one', 'two', 'three', 'four', 'five', 'six', 'seven', 'eight')"
      ]
     },
     "execution_count": 36,
     "metadata": {},
     "output_type": "execute_result"
    }
   ],
   "source": [
    "mytuple"
   ]
  },
  {
   "cell_type": "code",
   "execution_count": 37,
   "id": "7ed98015-8327-4e61-96f5-cf1e1ece72cf",
   "metadata": {},
   "outputs": [
    {
     "data": {
      "text/plain": [
       "True"
      ]
     },
     "execution_count": 37,
     "metadata": {},
     "output_type": "execute_result"
    }
   ],
   "source": [
    "\"one\" in mytuple  #check if 'one' exist in the list"
   ]
  },
  {
   "cell_type": "code",
   "execution_count": 38,
   "id": "d5e78ca8-f8ad-4dbd-9b1a-341f61a48c94",
   "metadata": {},
   "outputs": [
    {
     "data": {
      "text/plain": [
       "False"
      ]
     },
     "execution_count": 38,
     "metadata": {},
     "output_type": "execute_result"
    }
   ],
   "source": [
    "\"ten\" in mytuple  #check if 'ten' exist in the list"
   ]
  },
  {
   "cell_type": "code",
   "execution_count": 40,
   "id": "6e641de6-f277-44ce-ab81-07aea05b7d25",
   "metadata": {},
   "outputs": [
    {
     "name": "stdout",
     "output_type": "stream",
     "text": [
      "three is presrent in the tuple\n"
     ]
    }
   ],
   "source": [
    "if 'three' in mytuple:     #Check if 'three' exists in the tuple\n",
    "    print('three is presrent in the tuple')\n",
    "else:\n",
    "    print('three is not present in the table')"
   ]
  },
  {
   "cell_type": "code",
   "execution_count": 41,
   "id": "86adee72-3785-4f7d-b586-b2bf61a7d564",
   "metadata": {},
   "outputs": [
    {
     "name": "stdout",
     "output_type": "stream",
     "text": [
      "eleven is not present in the tuple\n"
     ]
    }
   ],
   "source": [
    "if 'eleven' in mytuple:\n",
    "    print('eleven is present in the tuple')\n",
    "else:\n",
    "    print('eleven is not present in the tuple')"
   ]
  },
  {
   "cell_type": "markdown",
   "id": "1f736855-291d-483f-9fad-a8aef89cb7f1",
   "metadata": {},
   "source": [
    "Index position"
   ]
  },
  {
   "cell_type": "code",
   "execution_count": 43,
   "id": "f63aae1f-a95b-4412-a4ef-07a670bb87da",
   "metadata": {},
   "outputs": [
    {
     "data": {
      "text/plain": [
       "('one', 'two', 'three', 'four', 'five', 'six', 'seven', 'eight')"
      ]
     },
     "execution_count": 43,
     "metadata": {},
     "output_type": "execute_result"
    }
   ],
   "source": [
    "mytuple"
   ]
  },
  {
   "cell_type": "code",
   "execution_count": 46,
   "id": "e450facc-88b4-46e5-b156-fcee55f4db95",
   "metadata": {},
   "outputs": [
    {
     "data": {
      "text/plain": [
       "0"
      ]
     },
     "execution_count": 46,
     "metadata": {},
     "output_type": "execute_result"
    }
   ],
   "source": [
    "mytuple.index('one') #Index of first element equal to 'one'"
   ]
  },
  {
   "cell_type": "code",
   "execution_count": 47,
   "id": "1877e999-913e-4bff-b7a8-60284e61fbb6",
   "metadata": {},
   "outputs": [
    {
     "data": {
      "text/plain": [
       "4"
      ]
     },
     "execution_count": 47,
     "metadata": {},
     "output_type": "execute_result"
    }
   ],
   "source": [
    "mytuple.index('five') #Index of first element equal to 'five'"
   ]
  },
  {
   "cell_type": "code",
   "execution_count": 50,
   "id": "ae0d033c-b335-4429-8bbf-9047b6fa7556",
   "metadata": {},
   "outputs": [
    {
     "data": {
      "text/plain": [
       "('one', 'two', 'three', 'four', 'five', 'six', 'seven', 'eight')"
      ]
     },
     "execution_count": 50,
     "metadata": {},
     "output_type": "execute_result"
    }
   ],
   "source": [
    "mytuple"
   ]
  },
  {
   "cell_type": "code",
   "execution_count": 51,
   "id": "22c399c2-50bd-49f5-8638-cc49e59b4ae8",
   "metadata": {},
   "outputs": [],
   "source": [
    "mytuple1 =(43,67,99,12,6,90,67)"
   ]
  },
  {
   "cell_type": "code",
   "execution_count": 52,
   "id": "fd9a9071-c725-402c-94db-bb3202bf1e38",
   "metadata": {},
   "outputs": [
    {
     "data": {
      "text/plain": [
       "[6, 12, 43, 67, 67, 90, 99]"
      ]
     },
     "execution_count": 52,
     "metadata": {},
     "output_type": "execute_result"
    }
   ],
   "source": [
    "sorted(mytuple1) #Returns a new sorted lists and sosen't change original tuple"
   ]
  },
  {
   "cell_type": "code",
   "execution_count": 55,
   "id": "d3611f66-ca21-421b-9d0a-ef80c80191bb",
   "metadata": {},
   "outputs": [
    {
     "data": {
      "text/plain": [
       "[99, 90, 67, 67, 43, 12, 6]"
      ]
     },
     "execution_count": 55,
     "metadata": {},
     "output_type": "execute_result"
    }
   ],
   "source": [
    "sorted(mytuple1, reverse=True) #sort in descending order"
   ]
  },
  {
   "cell_type": "code",
   "execution_count": null,
   "id": "92446e9d-f1cd-4ed4-84ac-a8edcc62d4cf",
   "metadata": {},
   "outputs": [],
   "source": []
  }
 ],
 "metadata": {
  "kernelspec": {
   "display_name": "Python [conda env:base] *",
   "language": "python",
   "name": "conda-base-py"
  },
  "language_info": {
   "codemirror_mode": {
    "name": "ipython",
    "version": 3
   },
   "file_extension": ".py",
   "mimetype": "text/x-python",
   "name": "python",
   "nbconvert_exporter": "python",
   "pygments_lexer": "ipython3",
   "version": "3.12.7"
  }
 },
 "nbformat": 4,
 "nbformat_minor": 5
}
